{
 "cells": [
  {
   "cell_type": "markdown",
   "id": "d7222b28",
   "metadata": {},
   "source": [
    "Cargar datos: \n",
    "Importamos pandas y leemos el archivo csv\n",
    "Descubrir los datos"
   ]
  },
  {
   "cell_type": "code",
   "execution_count": 1,
   "id": "67d34f1a",
   "metadata": {},
   "outputs": [
    {
     "name": "stdout",
     "output_type": "stream",
     "text": [
      "DataFrame cargado correctamente:\n"
     ]
    },
    {
     "data": {
      "application/vnd.microsoft.datawrangler.viewer.v0+json": {
       "columns": [
        {
         "name": "id",
         "rawType": "int64",
         "type": "integer"
        },
        {
         "name": "full_text",
         "rawType": "object",
         "type": "string"
        },
        {
         "name": "favorites",
         "rawType": "float64",
         "type": "float"
        },
        {
         "name": "retweets",
         "rawType": "float64",
         "type": "float"
        },
        {
         "name": "mentions",
         "rawType": "float64",
         "type": "float"
        },
        {
         "name": "country",
         "rawType": "object",
         "type": "string"
        },
        {
         "name": "user",
         "rawType": "object",
         "type": "string"
        },
        {
         "name": "followers",
         "rawType": "float64",
         "type": "float"
        },
        {
         "name": "followees",
         "rawType": "int64",
         "type": "integer"
        }
       ],
       "ref": "188abdc5-bd71-440a-9315-ebb6f5bf678c",
       "rows": [
        [
         "183721",
         "Flying home to run down from the power to coming right up. 💁‍♂️😭 Today we have devalued their.",
         "23.0",
         null,
         "10.0",
         "ECUADOR",
         "leonardokuffo",
         "389.0",
         "258"
        ],
        [
         "183722",
         "Today we commemorate and MNML Case.",
         "500.0",
         "21.0",
         null,
         "BRASIL",
         "mateusmartins",
         "982.0",
         "1822"
        ],
        [
         "183723",
         "Today we have reached US$6.55 Billion TT$44…",
         "190.0",
         "123.0",
         "6.0",
         "MEXICO",
         "pedrojuarez",
         "12.0",
         "129"
        ],
        [
         "183724",
         "Faking It by Joel Atwell. Written by Other countries have devalued their currency retrenched thousands?",
         "131.0",
         "76.0",
         "3.0",
         "ECUADOR",
         "galocastillo",
         "332.0",
         "378"
        ],
        [
         "183725",
         "Welcome back! 🙌",
         "113.0",
         "130.0",
         "9.0",
         "MEXICO",
         "pedrojuarez",
         "12.0",
         "129"
        ]
       ],
       "shape": {
        "columns": 8,
        "rows": 5
       }
      },
      "text/html": [
       "<div>\n",
       "<style scoped>\n",
       "    .dataframe tbody tr th:only-of-type {\n",
       "        vertical-align: middle;\n",
       "    }\n",
       "\n",
       "    .dataframe tbody tr th {\n",
       "        vertical-align: top;\n",
       "    }\n",
       "\n",
       "    .dataframe thead th {\n",
       "        text-align: right;\n",
       "    }\n",
       "</style>\n",
       "<table border=\"1\" class=\"dataframe\">\n",
       "  <thead>\n",
       "    <tr style=\"text-align: right;\">\n",
       "      <th></th>\n",
       "      <th>full_text</th>\n",
       "      <th>favorites</th>\n",
       "      <th>retweets</th>\n",
       "      <th>mentions</th>\n",
       "      <th>country</th>\n",
       "      <th>user</th>\n",
       "      <th>followers</th>\n",
       "      <th>followees</th>\n",
       "    </tr>\n",
       "    <tr>\n",
       "      <th>id</th>\n",
       "      <th></th>\n",
       "      <th></th>\n",
       "      <th></th>\n",
       "      <th></th>\n",
       "      <th></th>\n",
       "      <th></th>\n",
       "      <th></th>\n",
       "      <th></th>\n",
       "    </tr>\n",
       "  </thead>\n",
       "  <tbody>\n",
       "    <tr>\n",
       "      <th>183721</th>\n",
       "      <td>Flying home to run down from the power to comi...</td>\n",
       "      <td>23.0</td>\n",
       "      <td>NaN</td>\n",
       "      <td>10.0</td>\n",
       "      <td>ECUADOR</td>\n",
       "      <td>leonardokuffo</td>\n",
       "      <td>389.0</td>\n",
       "      <td>258</td>\n",
       "    </tr>\n",
       "    <tr>\n",
       "      <th>183722</th>\n",
       "      <td>Today we commemorate and MNML Case.</td>\n",
       "      <td>500.0</td>\n",
       "      <td>21.0</td>\n",
       "      <td>NaN</td>\n",
       "      <td>BRASIL</td>\n",
       "      <td>mateusmartins</td>\n",
       "      <td>982.0</td>\n",
       "      <td>1822</td>\n",
       "    </tr>\n",
       "    <tr>\n",
       "      <th>183723</th>\n",
       "      <td>Today we have reached US$6.55 Billion TT$44…</td>\n",
       "      <td>190.0</td>\n",
       "      <td>123.0</td>\n",
       "      <td>6.0</td>\n",
       "      <td>MEXICO</td>\n",
       "      <td>pedrojuarez</td>\n",
       "      <td>12.0</td>\n",
       "      <td>129</td>\n",
       "    </tr>\n",
       "    <tr>\n",
       "      <th>183724</th>\n",
       "      <td>Faking It by Joel Atwell. Written by Other cou...</td>\n",
       "      <td>131.0</td>\n",
       "      <td>76.0</td>\n",
       "      <td>3.0</td>\n",
       "      <td>ECUADOR</td>\n",
       "      <td>galocastillo</td>\n",
       "      <td>332.0</td>\n",
       "      <td>378</td>\n",
       "    </tr>\n",
       "    <tr>\n",
       "      <th>183725</th>\n",
       "      <td>Welcome back! 🙌</td>\n",
       "      <td>113.0</td>\n",
       "      <td>130.0</td>\n",
       "      <td>9.0</td>\n",
       "      <td>MEXICO</td>\n",
       "      <td>pedrojuarez</td>\n",
       "      <td>12.0</td>\n",
       "      <td>129</td>\n",
       "    </tr>\n",
       "  </tbody>\n",
       "</table>\n",
       "</div>"
      ],
      "text/plain": [
       "                                                full_text  favorites  \\\n",
       "id                                                                     \n",
       "183721  Flying home to run down from the power to comi...       23.0   \n",
       "183722                Today we commemorate and MNML Case.      500.0   \n",
       "183723       Today we have reached US$6.55 Billion TT$44…      190.0   \n",
       "183724  Faking It by Joel Atwell. Written by Other cou...      131.0   \n",
       "183725                                    Welcome back! 🙌      113.0   \n",
       "\n",
       "        retweets  mentions  country           user  followers  followees  \n",
       "id                                                                        \n",
       "183721       NaN      10.0  ECUADOR  leonardokuffo      389.0        258  \n",
       "183722      21.0       NaN   BRASIL  mateusmartins      982.0       1822  \n",
       "183723     123.0       6.0   MEXICO    pedrojuarez       12.0        129  \n",
       "183724      76.0       3.0  ECUADOR   galocastillo      332.0        378  \n",
       "183725     130.0       9.0   MEXICO    pedrojuarez       12.0        129  "
      ]
     },
     "execution_count": 1,
     "metadata": {},
     "output_type": "execute_result"
    }
   ],
   "source": [
    "import pandas as pd\n",
    "\n",
    "df = pd.read_csv('C:/Users/se302/Documents/PROGRAMACION/Ciencia de datos/doc/dataset.csv',index_col=\"id\")\n",
    "\n",
    "print(\"DataFrame cargado correctamente:\")\n",
    "df.head() #primeras 5 filas de la DataFrame\n",
    "#df.tail(19) # últimas 5 o mas filas de el DataFrame\n",
    "#df.describe() # descripción estadística de las columnas numéricas\n",
    "\n"
   ]
  },
  {
   "cell_type": "markdown",
   "id": "34f3b077",
   "metadata": {},
   "source": [
    "Limpieza de datos:Muchas veces es necesario limpiar datos para que se puedan trabajar con ellos."
   ]
  },
  {
   "cell_type": "markdown",
   "id": "41995d57",
   "metadata": {},
   "source": [
    "Ejemplo:Muchas veces habran datos incompleto o espacios vacios,nosotros podemos dentro de pandas desasernos o llenar con valores por defecto."
   ]
  },
  {
   "cell_type": "code",
   "execution_count": 2,
   "id": "322c59d1",
   "metadata": {},
   "outputs": [
    {
     "data": {
      "application/vnd.microsoft.datawrangler.viewer.v0+json": {
       "columns": [
        {
         "name": "id",
         "rawType": "int64",
         "type": "integer"
        },
        {
         "name": "full_text",
         "rawType": "object",
         "type": "string"
        },
        {
         "name": "favorites",
         "rawType": "float64",
         "type": "float"
        },
        {
         "name": "retweets",
         "rawType": "float64",
         "type": "float"
        },
        {
         "name": "mentions",
         "rawType": "float64",
         "type": "float"
        },
        {
         "name": "country",
         "rawType": "object",
         "type": "string"
        },
        {
         "name": "user",
         "rawType": "object",
         "type": "string"
        },
        {
         "name": "followers",
         "rawType": "float64",
         "type": "float"
        },
        {
         "name": "followees",
         "rawType": "int64",
         "type": "integer"
        }
       ],
       "ref": "d5d85313-34a8-429e-8d02-c9e4923a10f3",
       "rows": [
        [
         "183723",
         "Today we have reached US$6.55 Billion TT$44…",
         "190.0",
         "123.0",
         "6.0",
         "MEXICO",
         "pedrojuarez",
         "12.0",
         "129"
        ],
        [
         "183724",
         "Faking It by Joel Atwell. Written by Other countries have devalued their currency retrenched thousands?",
         "131.0",
         "76.0",
         "3.0",
         "ECUADOR",
         "galocastillo",
         "332.0",
         "378"
        ],
        [
         "183725",
         "Welcome back! 🙌",
         "113.0",
         "130.0",
         "9.0",
         "MEXICO",
         "pedrojuarez",
         "12.0",
         "129"
        ],
        [
         "183726",
         "Contest: Win a fan of his ass. #thatisall Thanks!",
         "492.0",
         "70.0",
         "6.0",
         "BRASIL",
         "mateusmartins",
         "982.0",
         "1822"
        ],
        [
         "183727",
         "80's & friends! ✈️",
         "158.0",
         "40.0",
         "22.0",
         "ECUADOR",
         "leonardokuffo",
         "389.0",
         "258"
        ]
       ],
       "shape": {
        "columns": 8,
        "rows": 5
       }
      },
      "text/html": [
       "<div>\n",
       "<style scoped>\n",
       "    .dataframe tbody tr th:only-of-type {\n",
       "        vertical-align: middle;\n",
       "    }\n",
       "\n",
       "    .dataframe tbody tr th {\n",
       "        vertical-align: top;\n",
       "    }\n",
       "\n",
       "    .dataframe thead th {\n",
       "        text-align: right;\n",
       "    }\n",
       "</style>\n",
       "<table border=\"1\" class=\"dataframe\">\n",
       "  <thead>\n",
       "    <tr style=\"text-align: right;\">\n",
       "      <th></th>\n",
       "      <th>full_text</th>\n",
       "      <th>favorites</th>\n",
       "      <th>retweets</th>\n",
       "      <th>mentions</th>\n",
       "      <th>country</th>\n",
       "      <th>user</th>\n",
       "      <th>followers</th>\n",
       "      <th>followees</th>\n",
       "    </tr>\n",
       "    <tr>\n",
       "      <th>id</th>\n",
       "      <th></th>\n",
       "      <th></th>\n",
       "      <th></th>\n",
       "      <th></th>\n",
       "      <th></th>\n",
       "      <th></th>\n",
       "      <th></th>\n",
       "      <th></th>\n",
       "    </tr>\n",
       "  </thead>\n",
       "  <tbody>\n",
       "    <tr>\n",
       "      <th>183723</th>\n",
       "      <td>Today we have reached US$6.55 Billion TT$44…</td>\n",
       "      <td>190.0</td>\n",
       "      <td>123.0</td>\n",
       "      <td>6.0</td>\n",
       "      <td>MEXICO</td>\n",
       "      <td>pedrojuarez</td>\n",
       "      <td>12.0</td>\n",
       "      <td>129</td>\n",
       "    </tr>\n",
       "    <tr>\n",
       "      <th>183724</th>\n",
       "      <td>Faking It by Joel Atwell. Written by Other cou...</td>\n",
       "      <td>131.0</td>\n",
       "      <td>76.0</td>\n",
       "      <td>3.0</td>\n",
       "      <td>ECUADOR</td>\n",
       "      <td>galocastillo</td>\n",
       "      <td>332.0</td>\n",
       "      <td>378</td>\n",
       "    </tr>\n",
       "    <tr>\n",
       "      <th>183725</th>\n",
       "      <td>Welcome back! 🙌</td>\n",
       "      <td>113.0</td>\n",
       "      <td>130.0</td>\n",
       "      <td>9.0</td>\n",
       "      <td>MEXICO</td>\n",
       "      <td>pedrojuarez</td>\n",
       "      <td>12.0</td>\n",
       "      <td>129</td>\n",
       "    </tr>\n",
       "    <tr>\n",
       "      <th>183726</th>\n",
       "      <td>Contest: Win a fan of his ass. #thatisall Thanks!</td>\n",
       "      <td>492.0</td>\n",
       "      <td>70.0</td>\n",
       "      <td>6.0</td>\n",
       "      <td>BRASIL</td>\n",
       "      <td>mateusmartins</td>\n",
       "      <td>982.0</td>\n",
       "      <td>1822</td>\n",
       "    </tr>\n",
       "    <tr>\n",
       "      <th>183727</th>\n",
       "      <td>80's &amp; friends! ✈️</td>\n",
       "      <td>158.0</td>\n",
       "      <td>40.0</td>\n",
       "      <td>22.0</td>\n",
       "      <td>ECUADOR</td>\n",
       "      <td>leonardokuffo</td>\n",
       "      <td>389.0</td>\n",
       "      <td>258</td>\n",
       "    </tr>\n",
       "  </tbody>\n",
       "</table>\n",
       "</div>"
      ],
      "text/plain": [
       "                                                full_text  favorites  \\\n",
       "id                                                                     \n",
       "183723       Today we have reached US$6.55 Billion TT$44…      190.0   \n",
       "183724  Faking It by Joel Atwell. Written by Other cou...      131.0   \n",
       "183725                                    Welcome back! 🙌      113.0   \n",
       "183726  Contest: Win a fan of his ass. #thatisall Thanks!      492.0   \n",
       "183727                                 80's & friends! ✈️      158.0   \n",
       "\n",
       "        retweets  mentions  country           user  followers  followees  \n",
       "id                                                                        \n",
       "183723     123.0       6.0   MEXICO    pedrojuarez       12.0        129  \n",
       "183724      76.0       3.0  ECUADOR   galocastillo      332.0        378  \n",
       "183725     130.0       9.0   MEXICO    pedrojuarez       12.0        129  \n",
       "183726      70.0       6.0   BRASIL  mateusmartins      982.0       1822  \n",
       "183727      40.0      22.0  ECUADOR  leonardokuffo      389.0        258  "
      ]
     },
     "execution_count": 2,
     "metadata": {},
     "output_type": "execute_result"
    }
   ],
   "source": [
    "df_filtrado = df.dropna()\n",
    "df_filtrado.head()"
   ]
  },
  {
   "cell_type": "markdown",
   "id": "117d4ee0",
   "metadata": {},
   "source": [
    "🔼En el dataframe podemos vizualizar que me a eliminado las filas que tenian el valor la funcion:df_filtrado = df.dropna() Elimina las filas que tienen datos incompletos"
   ]
  },
  {
   "cell_type": "markdown",
   "id": "0a9b2d78",
   "metadata": {},
   "source": [
    "¿Pero si no los queremos eliminar por completo?🔽"
   ]
  },
  {
   "cell_type": "code",
   "execution_count": null,
   "id": "96e12214",
   "metadata": {},
   "outputs": [
    {
     "data": {
      "application/vnd.microsoft.datawrangler.viewer.v0+json": {
       "columns": [
        {
         "name": "id",
         "rawType": "int64",
         "type": "integer"
        },
        {
         "name": "full_text",
         "rawType": "object",
         "type": "string"
        },
        {
         "name": "favorites",
         "rawType": "float64",
         "type": "float"
        },
        {
         "name": "retweets",
         "rawType": "float64",
         "type": "float"
        },
        {
         "name": "mentions",
         "rawType": "float64",
         "type": "float"
        },
        {
         "name": "country",
         "rawType": "object",
         "type": "string"
        },
        {
         "name": "user",
         "rawType": "object",
         "type": "string"
        },
        {
         "name": "followers",
         "rawType": "float64",
         "type": "float"
        },
        {
         "name": "followees",
         "rawType": "int64",
         "type": "integer"
        }
       ],
       "ref": "2c3c80d5-9da6-4875-b168-b4f3914c8d88",
       "rows": [
        [
         "183721",
         "Flying home to run down from the power to coming right up. 💁‍♂️😭 Today we have devalued their.",
         "23.0",
         "0.0",
         "10.0",
         "ECUADOR",
         "leonardokuffo",
         "389.0",
         "258"
        ],
        [
         "183722",
         "Today we commemorate and MNML Case.",
         "500.0",
         "21.0",
         "0.0",
         "BRASIL",
         "mateusmartins",
         "982.0",
         "1822"
        ],
        [
         "183723",
         "Today we have reached US$6.55 Billion TT$44…",
         "190.0",
         "123.0",
         "6.0",
         "MEXICO",
         "pedrojuarez",
         "12.0",
         "129"
        ],
        [
         "183724",
         "Faking It by Joel Atwell. Written by Other countries have devalued their currency retrenched thousands?",
         "131.0",
         "76.0",
         "3.0",
         "ECUADOR",
         "galocastillo",
         "332.0",
         "378"
        ],
        [
         "183725",
         "Welcome back! 🙌",
         "113.0",
         "130.0",
         "9.0",
         "MEXICO",
         "pedrojuarez",
         "12.0",
         "129"
        ]
       ],
       "shape": {
        "columns": 8,
        "rows": 5
       }
      },
      "text/html": [
       "<div>\n",
       "<style scoped>\n",
       "    .dataframe tbody tr th:only-of-type {\n",
       "        vertical-align: middle;\n",
       "    }\n",
       "\n",
       "    .dataframe tbody tr th {\n",
       "        vertical-align: top;\n",
       "    }\n",
       "\n",
       "    .dataframe thead th {\n",
       "        text-align: right;\n",
       "    }\n",
       "</style>\n",
       "<table border=\"1\" class=\"dataframe\">\n",
       "  <thead>\n",
       "    <tr style=\"text-align: right;\">\n",
       "      <th></th>\n",
       "      <th>full_text</th>\n",
       "      <th>favorites</th>\n",
       "      <th>retweets</th>\n",
       "      <th>mentions</th>\n",
       "      <th>country</th>\n",
       "      <th>user</th>\n",
       "      <th>followers</th>\n",
       "      <th>followees</th>\n",
       "    </tr>\n",
       "    <tr>\n",
       "      <th>id</th>\n",
       "      <th></th>\n",
       "      <th></th>\n",
       "      <th></th>\n",
       "      <th></th>\n",
       "      <th></th>\n",
       "      <th></th>\n",
       "      <th></th>\n",
       "      <th></th>\n",
       "    </tr>\n",
       "  </thead>\n",
       "  <tbody>\n",
       "    <tr>\n",
       "      <th>183721</th>\n",
       "      <td>Flying home to run down from the power to comi...</td>\n",
       "      <td>23.0</td>\n",
       "      <td>0.0</td>\n",
       "      <td>10.0</td>\n",
       "      <td>ECUADOR</td>\n",
       "      <td>leonardokuffo</td>\n",
       "      <td>389.0</td>\n",
       "      <td>258</td>\n",
       "    </tr>\n",
       "    <tr>\n",
       "      <th>183722</th>\n",
       "      <td>Today we commemorate and MNML Case.</td>\n",
       "      <td>500.0</td>\n",
       "      <td>21.0</td>\n",
       "      <td>0.0</td>\n",
       "      <td>BRASIL</td>\n",
       "      <td>mateusmartins</td>\n",
       "      <td>982.0</td>\n",
       "      <td>1822</td>\n",
       "    </tr>\n",
       "    <tr>\n",
       "      <th>183723</th>\n",
       "      <td>Today we have reached US$6.55 Billion TT$44…</td>\n",
       "      <td>190.0</td>\n",
       "      <td>123.0</td>\n",
       "      <td>6.0</td>\n",
       "      <td>MEXICO</td>\n",
       "      <td>pedrojuarez</td>\n",
       "      <td>12.0</td>\n",
       "      <td>129</td>\n",
       "    </tr>\n",
       "    <tr>\n",
       "      <th>183724</th>\n",
       "      <td>Faking It by Joel Atwell. Written by Other cou...</td>\n",
       "      <td>131.0</td>\n",
       "      <td>76.0</td>\n",
       "      <td>3.0</td>\n",
       "      <td>ECUADOR</td>\n",
       "      <td>galocastillo</td>\n",
       "      <td>332.0</td>\n",
       "      <td>378</td>\n",
       "    </tr>\n",
       "    <tr>\n",
       "      <th>183725</th>\n",
       "      <td>Welcome back! 🙌</td>\n",
       "      <td>113.0</td>\n",
       "      <td>130.0</td>\n",
       "      <td>9.0</td>\n",
       "      <td>MEXICO</td>\n",
       "      <td>pedrojuarez</td>\n",
       "      <td>12.0</td>\n",
       "      <td>129</td>\n",
       "    </tr>\n",
       "  </tbody>\n",
       "</table>\n",
       "</div>"
      ],
      "text/plain": [
       "                                                full_text  favorites  \\\n",
       "id                                                                     \n",
       "183721  Flying home to run down from the power to comi...       23.0   \n",
       "183722                Today we commemorate and MNML Case.      500.0   \n",
       "183723       Today we have reached US$6.55 Billion TT$44…      190.0   \n",
       "183724  Faking It by Joel Atwell. Written by Other cou...      131.0   \n",
       "183725                                    Welcome back! 🙌      113.0   \n",
       "\n",
       "        retweets  mentions  country           user  followers  followees  \n",
       "id                                                                        \n",
       "183721       0.0      10.0  ECUADOR  leonardokuffo      389.0        258  \n",
       "183722      21.0       0.0   BRASIL  mateusmartins      982.0       1822  \n",
       "183723     123.0       6.0   MEXICO    pedrojuarez       12.0        129  \n",
       "183724      76.0       3.0  ECUADOR   galocastillo      332.0        378  \n",
       "183725     130.0       9.0   MEXICO    pedrojuarez       12.0        129  "
      ]
     },
     "execution_count": 12,
     "metadata": {},
     "output_type": "execute_result"
    }
   ],
   "source": [
    "df_filtrado = df.fillna (0) #nos va a llenar la columna con el dato 0\n",
    "df_filtrado.head()"
   ]
  },
  {
   "cell_type": "markdown",
   "id": "ba5f428a",
   "metadata": {},
   "source": [
    "Avanzado:Algo mas complejo es cuando tengo que llenar datos dentro de la columna"
   ]
  },
  {
   "cell_type": "code",
   "execution_count": 14,
   "id": "06eba0a2",
   "metadata": {},
   "outputs": [
    {
     "data": {
      "application/vnd.microsoft.datawrangler.viewer.v0+json": {
       "columns": [
        {
         "name": "id",
         "rawType": "int64",
         "type": "integer"
        },
        {
         "name": "full_text",
         "rawType": "object",
         "type": "string"
        },
        {
         "name": "favorites",
         "rawType": "float64",
         "type": "float"
        },
        {
         "name": "retweets",
         "rawType": "float64",
         "type": "float"
        },
        {
         "name": "mentions",
         "rawType": "float64",
         "type": "float"
        },
        {
         "name": "country",
         "rawType": "object",
         "type": "string"
        },
        {
         "name": "user",
         "rawType": "object",
         "type": "string"
        },
        {
         "name": "followers",
         "rawType": "float64",
         "type": "float"
        },
        {
         "name": "followees",
         "rawType": "int64",
         "type": "integer"
        }
       ],
       "ref": "b13a4deb-5feb-476e-839f-41f6ac1494ab",
       "rows": [
        [
         "183721",
         "Flying home to run down from the power to coming right up. 💁‍♂️😭 Today we have devalued their.",
         "23.0",
         "0.0",
         "10.0",
         "ECUADOR",
         "leonardokuffo",
         "389.0",
         "258"
        ],
        [
         "183722",
         "Today we commemorate and MNML Case.",
         "500.0",
         "21.0",
         "-1.0",
         "BRASIL",
         "mateusmartins",
         "982.0",
         "1822"
        ],
        [
         "183723",
         "Today we have reached US$6.55 Billion TT$44…",
         "190.0",
         "123.0",
         "6.0",
         "MEXICO",
         "pedrojuarez",
         "12.0",
         "129"
        ],
        [
         "183724",
         "Faking It by Joel Atwell. Written by Other countries have devalued their currency retrenched thousands?",
         "131.0",
         "76.0",
         "3.0",
         "ECUADOR",
         "galocastillo",
         "332.0",
         "378"
        ],
        [
         "183725",
         "Welcome back! 🙌",
         "113.0",
         "130.0",
         "9.0",
         "MEXICO",
         "pedrojuarez",
         "12.0",
         "129"
        ]
       ],
       "shape": {
        "columns": 8,
        "rows": 5
       }
      },
      "text/html": [
       "<div>\n",
       "<style scoped>\n",
       "    .dataframe tbody tr th:only-of-type {\n",
       "        vertical-align: middle;\n",
       "    }\n",
       "\n",
       "    .dataframe tbody tr th {\n",
       "        vertical-align: top;\n",
       "    }\n",
       "\n",
       "    .dataframe thead th {\n",
       "        text-align: right;\n",
       "    }\n",
       "</style>\n",
       "<table border=\"1\" class=\"dataframe\">\n",
       "  <thead>\n",
       "    <tr style=\"text-align: right;\">\n",
       "      <th></th>\n",
       "      <th>full_text</th>\n",
       "      <th>favorites</th>\n",
       "      <th>retweets</th>\n",
       "      <th>mentions</th>\n",
       "      <th>country</th>\n",
       "      <th>user</th>\n",
       "      <th>followers</th>\n",
       "      <th>followees</th>\n",
       "    </tr>\n",
       "    <tr>\n",
       "      <th>id</th>\n",
       "      <th></th>\n",
       "      <th></th>\n",
       "      <th></th>\n",
       "      <th></th>\n",
       "      <th></th>\n",
       "      <th></th>\n",
       "      <th></th>\n",
       "      <th></th>\n",
       "    </tr>\n",
       "  </thead>\n",
       "  <tbody>\n",
       "    <tr>\n",
       "      <th>183721</th>\n",
       "      <td>Flying home to run down from the power to comi...</td>\n",
       "      <td>23.0</td>\n",
       "      <td>0.0</td>\n",
       "      <td>10.0</td>\n",
       "      <td>ECUADOR</td>\n",
       "      <td>leonardokuffo</td>\n",
       "      <td>389.0</td>\n",
       "      <td>258</td>\n",
       "    </tr>\n",
       "    <tr>\n",
       "      <th>183722</th>\n",
       "      <td>Today we commemorate and MNML Case.</td>\n",
       "      <td>500.0</td>\n",
       "      <td>21.0</td>\n",
       "      <td>-1.0</td>\n",
       "      <td>BRASIL</td>\n",
       "      <td>mateusmartins</td>\n",
       "      <td>982.0</td>\n",
       "      <td>1822</td>\n",
       "    </tr>\n",
       "    <tr>\n",
       "      <th>183723</th>\n",
       "      <td>Today we have reached US$6.55 Billion TT$44…</td>\n",
       "      <td>190.0</td>\n",
       "      <td>123.0</td>\n",
       "      <td>6.0</td>\n",
       "      <td>MEXICO</td>\n",
       "      <td>pedrojuarez</td>\n",
       "      <td>12.0</td>\n",
       "      <td>129</td>\n",
       "    </tr>\n",
       "    <tr>\n",
       "      <th>183724</th>\n",
       "      <td>Faking It by Joel Atwell. Written by Other cou...</td>\n",
       "      <td>131.0</td>\n",
       "      <td>76.0</td>\n",
       "      <td>3.0</td>\n",
       "      <td>ECUADOR</td>\n",
       "      <td>galocastillo</td>\n",
       "      <td>332.0</td>\n",
       "      <td>378</td>\n",
       "    </tr>\n",
       "    <tr>\n",
       "      <th>183725</th>\n",
       "      <td>Welcome back! 🙌</td>\n",
       "      <td>113.0</td>\n",
       "      <td>130.0</td>\n",
       "      <td>9.0</td>\n",
       "      <td>MEXICO</td>\n",
       "      <td>pedrojuarez</td>\n",
       "      <td>12.0</td>\n",
       "      <td>129</td>\n",
       "    </tr>\n",
       "  </tbody>\n",
       "</table>\n",
       "</div>"
      ],
      "text/plain": [
       "                                                full_text  favorites  \\\n",
       "id                                                                     \n",
       "183721  Flying home to run down from the power to comi...       23.0   \n",
       "183722                Today we commemorate and MNML Case.      500.0   \n",
       "183723       Today we have reached US$6.55 Billion TT$44…      190.0   \n",
       "183724  Faking It by Joel Atwell. Written by Other cou...      131.0   \n",
       "183725                                    Welcome back! 🙌      113.0   \n",
       "\n",
       "        retweets  mentions  country           user  followers  followees  \n",
       "id                                                                        \n",
       "183721       0.0      10.0  ECUADOR  leonardokuffo      389.0        258  \n",
       "183722      21.0      -1.0   BRASIL  mateusmartins      982.0       1822  \n",
       "183723     123.0       6.0   MEXICO    pedrojuarez       12.0        129  \n",
       "183724      76.0       3.0  ECUADOR   galocastillo      332.0        378  \n",
       "183725     130.0       9.0   MEXICO    pedrojuarez       12.0        129  "
      ]
     },
     "execution_count": 14,
     "metadata": {},
     "output_type": "execute_result"
    }
   ],
   "source": [
    "df_filtrado = df.fillna( {\"retweets\": 0 , \"mentions\": -1} )\n",
    "df_filtrado.head()"
   ]
  },
  {
   "cell_type": "code",
   "execution_count": 13,
   "id": "eed58b17",
   "metadata": {},
   "outputs": [
    {
     "name": "stdout",
     "output_type": "stream",
     "text": [
      "Se accedió a la columna 'full_text' con éxito. Mostrando las primeras 5 entradas:\n",
      "0    Flying home to run down from the power to comi...\n",
      "1                  Today we commemorate and MNML Case.\n",
      "2         Today we have reached US$6.55 Billion TT$44…\n",
      "3    Faking It by Joel Atwell. Written by Other cou...\n",
      "4                                      Welcome back! 🙌\n",
      "Name: full_text, dtype: object\n"
     ]
    }
   ],
   "source": [
    "# 1. Importar la librería pandas (esencial para trabajar con DataFrames)\n",
    "import pandas as pd\n",
    "\n",
    "# --- CORRECCIÓN PRINCIPAL ---\n",
    "# 2. Definir la variable 'df' cargando tus datos desde un archivo.\n",
    "#    Asegúrate de reemplazar 'nombre_de_tu_archivo.csv' con el nombre y ruta real de tu archivo.\n",
    "try:\n",
    "    df = pd.read_csv('C:/Users/se302/Documents/PROGRAMACION/Ciencia de datos/doc/dataset.csv')\n",
    "\n",
    "    # 3. Ahora que 'df' existe, puedes usarla sin problemas.\n",
    "    #    Esta línea, que antes daba error, ahora funcionará correctamente.\n",
    "    columna_texto = df[\"full_text\"]\n",
    "\n",
    "    # 4. (Opcional pero recomendado) Imprimir las primeras filas para verificar\n",
    "    print(\"Se accedió a la columna 'full_text' con éxito. Mostrando las primeras 5 entradas:\")\n",
    "    print(columna_texto.head())\n",
    "\n",
    "# --- Buenas prácticas para manejar otros posibles errores ---\n",
    "except FileNotFoundError:\n",
    "    print(\"Error de corrección: No se encontró el archivo 'nombre_de_tu_archivo.csv'.\")\n",
    "    print(\"Por favor, verifica que el nombre y la ruta del archivo son correctos.\")\n",
    "\n",
    "except KeyError:\n",
    "    # Este error ocurre si el archivo se carga, pero la columna 'full_text' no existe.\n",
    "    print(\"Error de corrección: La columna 'full_text' no existe en el DataFrame.\")\n",
    "    print(\"Revisa si el nombre está bien escrito. Las columnas disponibles son:\")\n",
    "    print(df.columns.tolist())\n",
    "\n"
   ]
  }
 ],
 "metadata": {
  "kernelspec": {
   "display_name": ".venv",
   "language": "python",
   "name": "python3"
  },
  "language_info": {
   "codemirror_mode": {
    "name": "ipython",
    "version": 3
   },
   "file_extension": ".py",
   "mimetype": "text/x-python",
   "name": "python",
   "nbconvert_exporter": "python",
   "pygments_lexer": "ipython3",
   "version": "3.12.10"
  }
 },
 "nbformat": 4,
 "nbformat_minor": 5
}
