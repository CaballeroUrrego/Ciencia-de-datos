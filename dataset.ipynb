{
 "cells": [
  {
   "cell_type": "markdown",
   "id": "d7222b28",
   "metadata": {},
   "source": [
    "Cargar datos: \n",
    "Importamos pandas y leemos el archivo csv\n",
    "Descubrir los datos"
   ]
  },
  {
   "cell_type": "code",
   "execution_count": 1,
   "id": "67d34f1a",
   "metadata": {},
   "outputs": [
    {
     "name": "stdout",
     "output_type": "stream",
     "text": [
      "DataFrame cargado correctamente:\n"
     ]
    },
    {
     "data": {
      "application/vnd.microsoft.datawrangler.viewer.v0+json": {
       "columns": [
        {
         "name": "id",
         "rawType": "int64",
         "type": "integer"
        },
        {
         "name": "full_text",
         "rawType": "object",
         "type": "string"
        },
        {
         "name": "favorites",
         "rawType": "float64",
         "type": "float"
        },
        {
         "name": "retweets",
         "rawType": "float64",
         "type": "float"
        },
        {
         "name": "mentions",
         "rawType": "float64",
         "type": "float"
        },
        {
         "name": "country",
         "rawType": "object",
         "type": "string"
        },
        {
         "name": "user",
         "rawType": "object",
         "type": "string"
        },
        {
         "name": "followers",
         "rawType": "float64",
         "type": "float"
        },
        {
         "name": "followees",
         "rawType": "int64",
         "type": "integer"
        }
       ],
       "ref": "ba08630a-6d83-4188-a86a-3069d2bcb03d",
       "rows": [
        [
         "183721",
         "Flying home to run down from the power to coming right up. 💁‍♂️😭 Today we have devalued their.",
         "23.0",
         null,
         "10.0",
         "ECUADOR",
         "leonardokuffo",
         "389.0",
         "258"
        ],
        [
         "183722",
         "Today we commemorate and MNML Case.",
         "500.0",
         "21.0",
         null,
         "BRASIL",
         "mateusmartins",
         "982.0",
         "1822"
        ],
        [
         "183723",
         "Today we have reached US$6.55 Billion TT$44…",
         "190.0",
         "123.0",
         "6.0",
         "MEXICO",
         "pedrojuarez",
         "12.0",
         "129"
        ],
        [
         "183724",
         "Faking It by Joel Atwell. Written by Other countries have devalued their currency retrenched thousands?",
         "131.0",
         "76.0",
         "3.0",
         "ECUADOR",
         "galocastillo",
         "332.0",
         "378"
        ],
        [
         "183725",
         "Welcome back! 🙌",
         "113.0",
         "130.0",
         "9.0",
         "MEXICO",
         "pedrojuarez",
         "12.0",
         "129"
        ]
       ],
       "shape": {
        "columns": 8,
        "rows": 5
       }
      },
      "text/html": [
       "<div>\n",
       "<style scoped>\n",
       "    .dataframe tbody tr th:only-of-type {\n",
       "        vertical-align: middle;\n",
       "    }\n",
       "\n",
       "    .dataframe tbody tr th {\n",
       "        vertical-align: top;\n",
       "    }\n",
       "\n",
       "    .dataframe thead th {\n",
       "        text-align: right;\n",
       "    }\n",
       "</style>\n",
       "<table border=\"1\" class=\"dataframe\">\n",
       "  <thead>\n",
       "    <tr style=\"text-align: right;\">\n",
       "      <th></th>\n",
       "      <th>full_text</th>\n",
       "      <th>favorites</th>\n",
       "      <th>retweets</th>\n",
       "      <th>mentions</th>\n",
       "      <th>country</th>\n",
       "      <th>user</th>\n",
       "      <th>followers</th>\n",
       "      <th>followees</th>\n",
       "    </tr>\n",
       "    <tr>\n",
       "      <th>id</th>\n",
       "      <th></th>\n",
       "      <th></th>\n",
       "      <th></th>\n",
       "      <th></th>\n",
       "      <th></th>\n",
       "      <th></th>\n",
       "      <th></th>\n",
       "      <th></th>\n",
       "    </tr>\n",
       "  </thead>\n",
       "  <tbody>\n",
       "    <tr>\n",
       "      <th>183721</th>\n",
       "      <td>Flying home to run down from the power to comi...</td>\n",
       "      <td>23.0</td>\n",
       "      <td>NaN</td>\n",
       "      <td>10.0</td>\n",
       "      <td>ECUADOR</td>\n",
       "      <td>leonardokuffo</td>\n",
       "      <td>389.0</td>\n",
       "      <td>258</td>\n",
       "    </tr>\n",
       "    <tr>\n",
       "      <th>183722</th>\n",
       "      <td>Today we commemorate and MNML Case.</td>\n",
       "      <td>500.0</td>\n",
       "      <td>21.0</td>\n",
       "      <td>NaN</td>\n",
       "      <td>BRASIL</td>\n",
       "      <td>mateusmartins</td>\n",
       "      <td>982.0</td>\n",
       "      <td>1822</td>\n",
       "    </tr>\n",
       "    <tr>\n",
       "      <th>183723</th>\n",
       "      <td>Today we have reached US$6.55 Billion TT$44…</td>\n",
       "      <td>190.0</td>\n",
       "      <td>123.0</td>\n",
       "      <td>6.0</td>\n",
       "      <td>MEXICO</td>\n",
       "      <td>pedrojuarez</td>\n",
       "      <td>12.0</td>\n",
       "      <td>129</td>\n",
       "    </tr>\n",
       "    <tr>\n",
       "      <th>183724</th>\n",
       "      <td>Faking It by Joel Atwell. Written by Other cou...</td>\n",
       "      <td>131.0</td>\n",
       "      <td>76.0</td>\n",
       "      <td>3.0</td>\n",
       "      <td>ECUADOR</td>\n",
       "      <td>galocastillo</td>\n",
       "      <td>332.0</td>\n",
       "      <td>378</td>\n",
       "    </tr>\n",
       "    <tr>\n",
       "      <th>183725</th>\n",
       "      <td>Welcome back! 🙌</td>\n",
       "      <td>113.0</td>\n",
       "      <td>130.0</td>\n",
       "      <td>9.0</td>\n",
       "      <td>MEXICO</td>\n",
       "      <td>pedrojuarez</td>\n",
       "      <td>12.0</td>\n",
       "      <td>129</td>\n",
       "    </tr>\n",
       "  </tbody>\n",
       "</table>\n",
       "</div>"
      ],
      "text/plain": [
       "                                                full_text  favorites  \\\n",
       "id                                                                     \n",
       "183721  Flying home to run down from the power to comi...       23.0   \n",
       "183722                Today we commemorate and MNML Case.      500.0   \n",
       "183723       Today we have reached US$6.55 Billion TT$44…      190.0   \n",
       "183724  Faking It by Joel Atwell. Written by Other cou...      131.0   \n",
       "183725                                    Welcome back! 🙌      113.0   \n",
       "\n",
       "        retweets  mentions  country           user  followers  followees  \n",
       "id                                                                        \n",
       "183721       NaN      10.0  ECUADOR  leonardokuffo      389.0        258  \n",
       "183722      21.0       NaN   BRASIL  mateusmartins      982.0       1822  \n",
       "183723     123.0       6.0   MEXICO    pedrojuarez       12.0        129  \n",
       "183724      76.0       3.0  ECUADOR   galocastillo      332.0        378  \n",
       "183725     130.0       9.0   MEXICO    pedrojuarez       12.0        129  "
      ]
     },
     "execution_count": 1,
     "metadata": {},
     "output_type": "execute_result"
    }
   ],
   "source": [
    "import pandas as pd\n",
    "\n",
    "df = pd.read_csv('C:/Users/se302/Documents/PROGRAMACION/Ciencia de datos/doc/dataset.csv',index_col=\"id\")\n",
    "\n",
    "print(\"DataFrame cargado correctamente:\")\n",
    "df.head() #primeras 5 filas de la DataFrame\n",
    "#df.tail(19) # últimas 5 o mas filas de el DataFrame\n",
    "#df.describe() # descripción estadística de las columnas numéricas\n",
    "\n"
   ]
  },
  {
   "cell_type": "markdown",
   "id": "34f3b077",
   "metadata": {},
   "source": [
    "Limpieza de datos:Muchas veces es necesario limpiar datos para que se puedan trabajar con ellos."
   ]
  },
  {
   "cell_type": "markdown",
   "id": "41995d57",
   "metadata": {},
   "source": [
    "Ejemplo:Muchas veces habran datos incompleto o espacios vacios,nosotros podemos dentro de pandas desasernos o llenar con valores por defecto."
   ]
  },
  {
   "cell_type": "code",
   "execution_count": 2,
   "id": "322c59d1",
   "metadata": {},
   "outputs": [
    {
     "data": {
      "application/vnd.microsoft.datawrangler.viewer.v0+json": {
       "columns": [
        {
         "name": "id",
         "rawType": "int64",
         "type": "integer"
        },
        {
         "name": "full_text",
         "rawType": "object",
         "type": "string"
        },
        {
         "name": "favorites",
         "rawType": "float64",
         "type": "float"
        },
        {
         "name": "retweets",
         "rawType": "float64",
         "type": "float"
        },
        {
         "name": "mentions",
         "rawType": "float64",
         "type": "float"
        },
        {
         "name": "country",
         "rawType": "object",
         "type": "string"
        },
        {
         "name": "user",
         "rawType": "object",
         "type": "string"
        },
        {
         "name": "followers",
         "rawType": "float64",
         "type": "float"
        },
        {
         "name": "followees",
         "rawType": "int64",
         "type": "integer"
        }
       ],
       "ref": "c72c954b-1c50-4df1-8347-a7e91dc751f7",
       "rows": [
        [
         "183723",
         "Today we have reached US$6.55 Billion TT$44…",
         "190.0",
         "123.0",
         "6.0",
         "MEXICO",
         "pedrojuarez",
         "12.0",
         "129"
        ],
        [
         "183724",
         "Faking It by Joel Atwell. Written by Other countries have devalued their currency retrenched thousands?",
         "131.0",
         "76.0",
         "3.0",
         "ECUADOR",
         "galocastillo",
         "332.0",
         "378"
        ],
        [
         "183725",
         "Welcome back! 🙌",
         "113.0",
         "130.0",
         "9.0",
         "MEXICO",
         "pedrojuarez",
         "12.0",
         "129"
        ],
        [
         "183726",
         "Contest: Win a fan of his ass. #thatisall Thanks!",
         "492.0",
         "70.0",
         "6.0",
         "BRASIL",
         "mateusmartins",
         "982.0",
         "1822"
        ],
        [
         "183727",
         "80's & friends! ✈️",
         "158.0",
         "40.0",
         "22.0",
         "ECUADOR",
         "leonardokuffo",
         "389.0",
         "258"
        ]
       ],
       "shape": {
        "columns": 8,
        "rows": 5
       }
      },
      "text/html": [
       "<div>\n",
       "<style scoped>\n",
       "    .dataframe tbody tr th:only-of-type {\n",
       "        vertical-align: middle;\n",
       "    }\n",
       "\n",
       "    .dataframe tbody tr th {\n",
       "        vertical-align: top;\n",
       "    }\n",
       "\n",
       "    .dataframe thead th {\n",
       "        text-align: right;\n",
       "    }\n",
       "</style>\n",
       "<table border=\"1\" class=\"dataframe\">\n",
       "  <thead>\n",
       "    <tr style=\"text-align: right;\">\n",
       "      <th></th>\n",
       "      <th>full_text</th>\n",
       "      <th>favorites</th>\n",
       "      <th>retweets</th>\n",
       "      <th>mentions</th>\n",
       "      <th>country</th>\n",
       "      <th>user</th>\n",
       "      <th>followers</th>\n",
       "      <th>followees</th>\n",
       "    </tr>\n",
       "    <tr>\n",
       "      <th>id</th>\n",
       "      <th></th>\n",
       "      <th></th>\n",
       "      <th></th>\n",
       "      <th></th>\n",
       "      <th></th>\n",
       "      <th></th>\n",
       "      <th></th>\n",
       "      <th></th>\n",
       "    </tr>\n",
       "  </thead>\n",
       "  <tbody>\n",
       "    <tr>\n",
       "      <th>183723</th>\n",
       "      <td>Today we have reached US$6.55 Billion TT$44…</td>\n",
       "      <td>190.0</td>\n",
       "      <td>123.0</td>\n",
       "      <td>6.0</td>\n",
       "      <td>MEXICO</td>\n",
       "      <td>pedrojuarez</td>\n",
       "      <td>12.0</td>\n",
       "      <td>129</td>\n",
       "    </tr>\n",
       "    <tr>\n",
       "      <th>183724</th>\n",
       "      <td>Faking It by Joel Atwell. Written by Other cou...</td>\n",
       "      <td>131.0</td>\n",
       "      <td>76.0</td>\n",
       "      <td>3.0</td>\n",
       "      <td>ECUADOR</td>\n",
       "      <td>galocastillo</td>\n",
       "      <td>332.0</td>\n",
       "      <td>378</td>\n",
       "    </tr>\n",
       "    <tr>\n",
       "      <th>183725</th>\n",
       "      <td>Welcome back! 🙌</td>\n",
       "      <td>113.0</td>\n",
       "      <td>130.0</td>\n",
       "      <td>9.0</td>\n",
       "      <td>MEXICO</td>\n",
       "      <td>pedrojuarez</td>\n",
       "      <td>12.0</td>\n",
       "      <td>129</td>\n",
       "    </tr>\n",
       "    <tr>\n",
       "      <th>183726</th>\n",
       "      <td>Contest: Win a fan of his ass. #thatisall Thanks!</td>\n",
       "      <td>492.0</td>\n",
       "      <td>70.0</td>\n",
       "      <td>6.0</td>\n",
       "      <td>BRASIL</td>\n",
       "      <td>mateusmartins</td>\n",
       "      <td>982.0</td>\n",
       "      <td>1822</td>\n",
       "    </tr>\n",
       "    <tr>\n",
       "      <th>183727</th>\n",
       "      <td>80's &amp; friends! ✈️</td>\n",
       "      <td>158.0</td>\n",
       "      <td>40.0</td>\n",
       "      <td>22.0</td>\n",
       "      <td>ECUADOR</td>\n",
       "      <td>leonardokuffo</td>\n",
       "      <td>389.0</td>\n",
       "      <td>258</td>\n",
       "    </tr>\n",
       "  </tbody>\n",
       "</table>\n",
       "</div>"
      ],
      "text/plain": [
       "                                                full_text  favorites  \\\n",
       "id                                                                     \n",
       "183723       Today we have reached US$6.55 Billion TT$44…      190.0   \n",
       "183724  Faking It by Joel Atwell. Written by Other cou...      131.0   \n",
       "183725                                    Welcome back! 🙌      113.0   \n",
       "183726  Contest: Win a fan of his ass. #thatisall Thanks!      492.0   \n",
       "183727                                 80's & friends! ✈️      158.0   \n",
       "\n",
       "        retweets  mentions  country           user  followers  followees  \n",
       "id                                                                        \n",
       "183723     123.0       6.0   MEXICO    pedrojuarez       12.0        129  \n",
       "183724      76.0       3.0  ECUADOR   galocastillo      332.0        378  \n",
       "183725     130.0       9.0   MEXICO    pedrojuarez       12.0        129  \n",
       "183726      70.0       6.0   BRASIL  mateusmartins      982.0       1822  \n",
       "183727      40.0      22.0  ECUADOR  leonardokuffo      389.0        258  "
      ]
     },
     "execution_count": 2,
     "metadata": {},
     "output_type": "execute_result"
    }
   ],
   "source": [
    "df_filtrado = df.dropna()\n",
    "df_filtrado.head()"
   ]
  },
  {
   "cell_type": "markdown",
   "id": "117d4ee0",
   "metadata": {},
   "source": [
    "🔼En el dataframe podemos vizualizar que me a eliminado las filas que tenian el valor la funcion:df_filtrado = df.dropna() Elimina las filas que tienen datos incompletos"
   ]
  },
  {
   "cell_type": "markdown",
   "id": "0a9b2d78",
   "metadata": {},
   "source": [
    "¿Pero si no los queremos eliminar por completo?🔽"
   ]
  },
  {
   "cell_type": "code",
   "execution_count": 3,
   "id": "96e12214",
   "metadata": {},
   "outputs": [
    {
     "data": {
      "application/vnd.microsoft.datawrangler.viewer.v0+json": {
       "columns": [
        {
         "name": "id",
         "rawType": "int64",
         "type": "integer"
        },
        {
         "name": "full_text",
         "rawType": "object",
         "type": "string"
        },
        {
         "name": "favorites",
         "rawType": "float64",
         "type": "float"
        },
        {
         "name": "retweets",
         "rawType": "float64",
         "type": "float"
        },
        {
         "name": "mentions",
         "rawType": "float64",
         "type": "float"
        },
        {
         "name": "country",
         "rawType": "object",
         "type": "string"
        },
        {
         "name": "user",
         "rawType": "object",
         "type": "string"
        },
        {
         "name": "followers",
         "rawType": "float64",
         "type": "float"
        },
        {
         "name": "followees",
         "rawType": "int64",
         "type": "integer"
        }
       ],
       "ref": "a926270a-4838-441e-b89e-47109989967d",
       "rows": [
        [
         "183721",
         "Flying home to run down from the power to coming right up. 💁‍♂️😭 Today we have devalued their.",
         "23.0",
         "0.0",
         "10.0",
         "ECUADOR",
         "leonardokuffo",
         "389.0",
         "258"
        ],
        [
         "183722",
         "Today we commemorate and MNML Case.",
         "500.0",
         "21.0",
         "0.0",
         "BRASIL",
         "mateusmartins",
         "982.0",
         "1822"
        ],
        [
         "183723",
         "Today we have reached US$6.55 Billion TT$44…",
         "190.0",
         "123.0",
         "6.0",
         "MEXICO",
         "pedrojuarez",
         "12.0",
         "129"
        ],
        [
         "183724",
         "Faking It by Joel Atwell. Written by Other countries have devalued their currency retrenched thousands?",
         "131.0",
         "76.0",
         "3.0",
         "ECUADOR",
         "galocastillo",
         "332.0",
         "378"
        ],
        [
         "183725",
         "Welcome back! 🙌",
         "113.0",
         "130.0",
         "9.0",
         "MEXICO",
         "pedrojuarez",
         "12.0",
         "129"
        ]
       ],
       "shape": {
        "columns": 8,
        "rows": 5
       }
      },
      "text/html": [
       "<div>\n",
       "<style scoped>\n",
       "    .dataframe tbody tr th:only-of-type {\n",
       "        vertical-align: middle;\n",
       "    }\n",
       "\n",
       "    .dataframe tbody tr th {\n",
       "        vertical-align: top;\n",
       "    }\n",
       "\n",
       "    .dataframe thead th {\n",
       "        text-align: right;\n",
       "    }\n",
       "</style>\n",
       "<table border=\"1\" class=\"dataframe\">\n",
       "  <thead>\n",
       "    <tr style=\"text-align: right;\">\n",
       "      <th></th>\n",
       "      <th>full_text</th>\n",
       "      <th>favorites</th>\n",
       "      <th>retweets</th>\n",
       "      <th>mentions</th>\n",
       "      <th>country</th>\n",
       "      <th>user</th>\n",
       "      <th>followers</th>\n",
       "      <th>followees</th>\n",
       "    </tr>\n",
       "    <tr>\n",
       "      <th>id</th>\n",
       "      <th></th>\n",
       "      <th></th>\n",
       "      <th></th>\n",
       "      <th></th>\n",
       "      <th></th>\n",
       "      <th></th>\n",
       "      <th></th>\n",
       "      <th></th>\n",
       "    </tr>\n",
       "  </thead>\n",
       "  <tbody>\n",
       "    <tr>\n",
       "      <th>183721</th>\n",
       "      <td>Flying home to run down from the power to comi...</td>\n",
       "      <td>23.0</td>\n",
       "      <td>0.0</td>\n",
       "      <td>10.0</td>\n",
       "      <td>ECUADOR</td>\n",
       "      <td>leonardokuffo</td>\n",
       "      <td>389.0</td>\n",
       "      <td>258</td>\n",
       "    </tr>\n",
       "    <tr>\n",
       "      <th>183722</th>\n",
       "      <td>Today we commemorate and MNML Case.</td>\n",
       "      <td>500.0</td>\n",
       "      <td>21.0</td>\n",
       "      <td>0.0</td>\n",
       "      <td>BRASIL</td>\n",
       "      <td>mateusmartins</td>\n",
       "      <td>982.0</td>\n",
       "      <td>1822</td>\n",
       "    </tr>\n",
       "    <tr>\n",
       "      <th>183723</th>\n",
       "      <td>Today we have reached US$6.55 Billion TT$44…</td>\n",
       "      <td>190.0</td>\n",
       "      <td>123.0</td>\n",
       "      <td>6.0</td>\n",
       "      <td>MEXICO</td>\n",
       "      <td>pedrojuarez</td>\n",
       "      <td>12.0</td>\n",
       "      <td>129</td>\n",
       "    </tr>\n",
       "    <tr>\n",
       "      <th>183724</th>\n",
       "      <td>Faking It by Joel Atwell. Written by Other cou...</td>\n",
       "      <td>131.0</td>\n",
       "      <td>76.0</td>\n",
       "      <td>3.0</td>\n",
       "      <td>ECUADOR</td>\n",
       "      <td>galocastillo</td>\n",
       "      <td>332.0</td>\n",
       "      <td>378</td>\n",
       "    </tr>\n",
       "    <tr>\n",
       "      <th>183725</th>\n",
       "      <td>Welcome back! 🙌</td>\n",
       "      <td>113.0</td>\n",
       "      <td>130.0</td>\n",
       "      <td>9.0</td>\n",
       "      <td>MEXICO</td>\n",
       "      <td>pedrojuarez</td>\n",
       "      <td>12.0</td>\n",
       "      <td>129</td>\n",
       "    </tr>\n",
       "  </tbody>\n",
       "</table>\n",
       "</div>"
      ],
      "text/plain": [
       "                                                full_text  favorites  \\\n",
       "id                                                                     \n",
       "183721  Flying home to run down from the power to comi...       23.0   \n",
       "183722                Today we commemorate and MNML Case.      500.0   \n",
       "183723       Today we have reached US$6.55 Billion TT$44…      190.0   \n",
       "183724  Faking It by Joel Atwell. Written by Other cou...      131.0   \n",
       "183725                                    Welcome back! 🙌      113.0   \n",
       "\n",
       "        retweets  mentions  country           user  followers  followees  \n",
       "id                                                                        \n",
       "183721       0.0      10.0  ECUADOR  leonardokuffo      389.0        258  \n",
       "183722      21.0       0.0   BRASIL  mateusmartins      982.0       1822  \n",
       "183723     123.0       6.0   MEXICO    pedrojuarez       12.0        129  \n",
       "183724      76.0       3.0  ECUADOR   galocastillo      332.0        378  \n",
       "183725     130.0       9.0   MEXICO    pedrojuarez       12.0        129  "
      ]
     },
     "execution_count": 3,
     "metadata": {},
     "output_type": "execute_result"
    }
   ],
   "source": [
    "df_filtrado = df.fillna (0) #nos va a llenar la columna con el dato 0\n",
    "df_filtrado.head()"
   ]
  },
  {
   "cell_type": "markdown",
   "id": "ba5f428a",
   "metadata": {},
   "source": [
    "Avanzado:Algo mas complejo es cuando tengo que llenar datos dentro de la columna"
   ]
  },
  {
   "cell_type": "code",
   "execution_count": 4,
   "id": "06eba0a2",
   "metadata": {},
   "outputs": [
    {
     "data": {
      "application/vnd.microsoft.datawrangler.viewer.v0+json": {
       "columns": [
        {
         "name": "id",
         "rawType": "int64",
         "type": "integer"
        },
        {
         "name": "full_text",
         "rawType": "object",
         "type": "string"
        },
        {
         "name": "favorites",
         "rawType": "float64",
         "type": "float"
        },
        {
         "name": "retweets",
         "rawType": "float64",
         "type": "float"
        },
        {
         "name": "mentions",
         "rawType": "float64",
         "type": "float"
        },
        {
         "name": "country",
         "rawType": "object",
         "type": "string"
        },
        {
         "name": "user",
         "rawType": "object",
         "type": "string"
        },
        {
         "name": "followers",
         "rawType": "float64",
         "type": "float"
        },
        {
         "name": "followees",
         "rawType": "int64",
         "type": "integer"
        }
       ],
       "ref": "50a7f437-d68c-463e-911c-b2585a60508b",
       "rows": [
        [
         "183721",
         "Flying home to run down from the power to coming right up. 💁‍♂️😭 Today we have devalued their.",
         "23.0",
         "0.0",
         "10.0",
         "ECUADOR",
         "leonardokuffo",
         "389.0",
         "258"
        ],
        [
         "183722",
         "Today we commemorate and MNML Case.",
         "500.0",
         "21.0",
         "-1.0",
         "BRASIL",
         "mateusmartins",
         "982.0",
         "1822"
        ],
        [
         "183723",
         "Today we have reached US$6.55 Billion TT$44…",
         "190.0",
         "123.0",
         "6.0",
         "MEXICO",
         "pedrojuarez",
         "12.0",
         "129"
        ],
        [
         "183724",
         "Faking It by Joel Atwell. Written by Other countries have devalued their currency retrenched thousands?",
         "131.0",
         "76.0",
         "3.0",
         "ECUADOR",
         "galocastillo",
         "332.0",
         "378"
        ],
        [
         "183725",
         "Welcome back! 🙌",
         "113.0",
         "130.0",
         "9.0",
         "MEXICO",
         "pedrojuarez",
         "12.0",
         "129"
        ]
       ],
       "shape": {
        "columns": 8,
        "rows": 5
       }
      },
      "text/html": [
       "<div>\n",
       "<style scoped>\n",
       "    .dataframe tbody tr th:only-of-type {\n",
       "        vertical-align: middle;\n",
       "    }\n",
       "\n",
       "    .dataframe tbody tr th {\n",
       "        vertical-align: top;\n",
       "    }\n",
       "\n",
       "    .dataframe thead th {\n",
       "        text-align: right;\n",
       "    }\n",
       "</style>\n",
       "<table border=\"1\" class=\"dataframe\">\n",
       "  <thead>\n",
       "    <tr style=\"text-align: right;\">\n",
       "      <th></th>\n",
       "      <th>full_text</th>\n",
       "      <th>favorites</th>\n",
       "      <th>retweets</th>\n",
       "      <th>mentions</th>\n",
       "      <th>country</th>\n",
       "      <th>user</th>\n",
       "      <th>followers</th>\n",
       "      <th>followees</th>\n",
       "    </tr>\n",
       "    <tr>\n",
       "      <th>id</th>\n",
       "      <th></th>\n",
       "      <th></th>\n",
       "      <th></th>\n",
       "      <th></th>\n",
       "      <th></th>\n",
       "      <th></th>\n",
       "      <th></th>\n",
       "      <th></th>\n",
       "    </tr>\n",
       "  </thead>\n",
       "  <tbody>\n",
       "    <tr>\n",
       "      <th>183721</th>\n",
       "      <td>Flying home to run down from the power to comi...</td>\n",
       "      <td>23.0</td>\n",
       "      <td>0.0</td>\n",
       "      <td>10.0</td>\n",
       "      <td>ECUADOR</td>\n",
       "      <td>leonardokuffo</td>\n",
       "      <td>389.0</td>\n",
       "      <td>258</td>\n",
       "    </tr>\n",
       "    <tr>\n",
       "      <th>183722</th>\n",
       "      <td>Today we commemorate and MNML Case.</td>\n",
       "      <td>500.0</td>\n",
       "      <td>21.0</td>\n",
       "      <td>-1.0</td>\n",
       "      <td>BRASIL</td>\n",
       "      <td>mateusmartins</td>\n",
       "      <td>982.0</td>\n",
       "      <td>1822</td>\n",
       "    </tr>\n",
       "    <tr>\n",
       "      <th>183723</th>\n",
       "      <td>Today we have reached US$6.55 Billion TT$44…</td>\n",
       "      <td>190.0</td>\n",
       "      <td>123.0</td>\n",
       "      <td>6.0</td>\n",
       "      <td>MEXICO</td>\n",
       "      <td>pedrojuarez</td>\n",
       "      <td>12.0</td>\n",
       "      <td>129</td>\n",
       "    </tr>\n",
       "    <tr>\n",
       "      <th>183724</th>\n",
       "      <td>Faking It by Joel Atwell. Written by Other cou...</td>\n",
       "      <td>131.0</td>\n",
       "      <td>76.0</td>\n",
       "      <td>3.0</td>\n",
       "      <td>ECUADOR</td>\n",
       "      <td>galocastillo</td>\n",
       "      <td>332.0</td>\n",
       "      <td>378</td>\n",
       "    </tr>\n",
       "    <tr>\n",
       "      <th>183725</th>\n",
       "      <td>Welcome back! 🙌</td>\n",
       "      <td>113.0</td>\n",
       "      <td>130.0</td>\n",
       "      <td>9.0</td>\n",
       "      <td>MEXICO</td>\n",
       "      <td>pedrojuarez</td>\n",
       "      <td>12.0</td>\n",
       "      <td>129</td>\n",
       "    </tr>\n",
       "  </tbody>\n",
       "</table>\n",
       "</div>"
      ],
      "text/plain": [
       "                                                full_text  favorites  \\\n",
       "id                                                                     \n",
       "183721  Flying home to run down from the power to comi...       23.0   \n",
       "183722                Today we commemorate and MNML Case.      500.0   \n",
       "183723       Today we have reached US$6.55 Billion TT$44…      190.0   \n",
       "183724  Faking It by Joel Atwell. Written by Other cou...      131.0   \n",
       "183725                                    Welcome back! 🙌      113.0   \n",
       "\n",
       "        retweets  mentions  country           user  followers  followees  \n",
       "id                                                                        \n",
       "183721       0.0      10.0  ECUADOR  leonardokuffo      389.0        258  \n",
       "183722      21.0      -1.0   BRASIL  mateusmartins      982.0       1822  \n",
       "183723     123.0       6.0   MEXICO    pedrojuarez       12.0        129  \n",
       "183724      76.0       3.0  ECUADOR   galocastillo      332.0        378  \n",
       "183725     130.0       9.0   MEXICO    pedrojuarez       12.0        129  "
      ]
     },
     "execution_count": 4,
     "metadata": {},
     "output_type": "execute_result"
    }
   ],
   "source": [
    "df_filtrado = df.fillna( {\"retweets\": 0 , \"mentions\": -1} )\n",
    "df_filtrado.head()"
   ]
  },
  {
   "cell_type": "code",
   "execution_count": 5,
   "id": "eed58b17",
   "metadata": {},
   "outputs": [
    {
     "name": "stdout",
     "output_type": "stream",
     "text": [
      "Se accedió a la columna 'full_text' con éxito. Mostrando las primeras 5 entradas:\n",
      "0    Flying home to run down from the power to comi...\n",
      "1                  Today we commemorate and MNML Case.\n",
      "2         Today we have reached US$6.55 Billion TT$44…\n",
      "3    Faking It by Joel Atwell. Written by Other cou...\n",
      "4                                      Welcome back! 🙌\n",
      "Name: full_text, dtype: object\n"
     ]
    }
   ],
   "source": [
    "# 1. Importar la librería pandas (esencial para trabajar con DataFrames)\n",
    "import pandas as pd\n",
    "# 2. Definir la variable 'df' cargando tus datos desde un archivo.\n",
    "#    Asegúrate de reemplazar 'nombre_de_tu_archivo.csv' con el nombre y ruta real de tu archivo.\n",
    "try:\n",
    "    df = pd.read_csv('C:/Users/se302/Documents/PROGRAMACION/Ciencia de datos/doc/dataset.csv')\n",
    "\n",
    "    # 3. Ahora que 'df' existe, puedes usarla sin problemas.\n",
    "    #    Esta línea, que antes daba error, ahora funcionará correctamente.\n",
    "    columna_texto = df[\"full_text\"]\n",
    "\n",
    "    # 4. (Opcional pero recomendado) Imprimir las primeras filas para verificar\n",
    "    print(\"Se accedió a la columna 'full_text' con éxito. Mostrando las primeras 5 entradas:\")\n",
    "    print(columna_texto.head())\n",
    "\n",
    "\n",
    "except FileNotFoundError:\n",
    "    print(\"Error de corrección: No se encontró el archivo 'nombre_de_tu_archivo.csv'.\")\n",
    "    print(\"Por favor, verifica que el nombre y la ruta del archivo son correctos.\")\n",
    "\n",
    "except KeyError:\n",
    "    \n",
    "    print(\"Error de corrección: La columna 'full_text' no existe en el DataFrame.\")\n",
    "    print(\"Revisa si el nombre está bien escrito. Las columnas disponibles son:\")\n",
    "    print(df.columns.tolist())\n",
    "\n"
   ]
  },
  {
   "cell_type": "code",
   "execution_count": 6,
   "id": "5a57bb0b",
   "metadata": {},
   "outputs": [
    {
     "data": {
      "application/vnd.microsoft.datawrangler.viewer.v0+json": {
       "columns": [
        {
         "name": "index",
         "rawType": "int64",
         "type": "integer"
        },
        {
         "name": "favorites",
         "rawType": "float64",
         "type": "float"
        },
        {
         "name": "full_text",
         "rawType": "object",
         "type": "string"
        }
       ],
       "ref": "fe6f38b6-1daa-4bf9-b9f2-42186fb7c4e1",
       "rows": [
        [
         "0",
         "23.0",
         "Flying home to run down from the power to coming right up. 💁‍♂️😭 Today we have devalued their."
        ],
        [
         "1",
         "500.0",
         "Today we commemorate and MNML Case."
        ],
        [
         "2",
         "190.0",
         "Today we have reached US$6.55 Billion TT$44…"
        ],
        [
         "3",
         "131.0",
         "Faking It by Joel Atwell. Written by Other countries have devalued their currency retrenched thousands?"
        ],
        [
         "4",
         "113.0",
         "Welcome back! 🙌"
        ],
        [
         "5",
         "492.0",
         "Contest: Win a fan of his ass. #thatisall Thanks!"
        ],
        [
         "6",
         "158.0",
         "80's & friends! ✈️"
        ],
        [
         "7",
         null,
         "Thank you guess how did I feel somewhat offended tha"
        ],
        [
         "8",
         "198.0",
         "OnePlus 8 international giveaway classifies"
        ],
        [
         "9",
         "272.0",
         "Here it is.. Retweet this desperate"
        ],
        [
         "10",
         "43.0",
         "Great to advertise during the year I tweeted a lot from Prague"
        ],
        [
         "11",
         "349.0",
         "Its been in love with the game with the original Monokai colorization for programming"
        ],
        [
         "12",
         "467.0",
         "Programming is the best!"
        ],
        [
         "13",
         "50.0",
         "I cannot believe this!"
        ],
        [
         "14",
         "418.0",
         "Buy this product NOW!!"
        ],
        [
         "15",
         "361.0",
         "I have one is best color gradients: Just released some photos"
        ],
        [
         "16",
         "346.0",
         "PIC!!"
        ],
        [
         "17",
         "296.0",
         "hmmm feeling bad today"
        ],
        [
         "18",
         "315.0",
         "not feeling god right now"
        ],
        [
         "19",
         "133.0",
         "Programming is a hot topic!"
        ],
        [
         "20",
         "92.0",
         "Programming? i love it!"
        ],
        [
         "21",
         "255.0",
         "WHAT???"
        ],
        [
         "22",
         "432.0",
         "Amazing video by Leonardo!"
        ],
        [
         "23",
         "430.0",
         "Thanks man!"
        ],
        [
         "24",
         "424.0",
         "There is nothing better than programming!"
        ],
        [
         "25",
         "488.0",
         "BORED AF"
        ],
        [
         "26",
         "318.0",
         "I do not know if i like programming or other thing better"
        ]
       ],
       "shape": {
        "columns": 2,
        "rows": 27
       }
      },
      "text/html": [
       "<div>\n",
       "<style scoped>\n",
       "    .dataframe tbody tr th:only-of-type {\n",
       "        vertical-align: middle;\n",
       "    }\n",
       "\n",
       "    .dataframe tbody tr th {\n",
       "        vertical-align: top;\n",
       "    }\n",
       "\n",
       "    .dataframe thead th {\n",
       "        text-align: right;\n",
       "    }\n",
       "</style>\n",
       "<table border=\"1\" class=\"dataframe\">\n",
       "  <thead>\n",
       "    <tr style=\"text-align: right;\">\n",
       "      <th></th>\n",
       "      <th>favorites</th>\n",
       "      <th>full_text</th>\n",
       "    </tr>\n",
       "  </thead>\n",
       "  <tbody>\n",
       "    <tr>\n",
       "      <th>0</th>\n",
       "      <td>23.0</td>\n",
       "      <td>Flying home to run down from the power to comi...</td>\n",
       "    </tr>\n",
       "    <tr>\n",
       "      <th>1</th>\n",
       "      <td>500.0</td>\n",
       "      <td>Today we commemorate and MNML Case.</td>\n",
       "    </tr>\n",
       "    <tr>\n",
       "      <th>2</th>\n",
       "      <td>190.0</td>\n",
       "      <td>Today we have reached US$6.55 Billion TT$44…</td>\n",
       "    </tr>\n",
       "    <tr>\n",
       "      <th>3</th>\n",
       "      <td>131.0</td>\n",
       "      <td>Faking It by Joel Atwell. Written by Other cou...</td>\n",
       "    </tr>\n",
       "    <tr>\n",
       "      <th>4</th>\n",
       "      <td>113.0</td>\n",
       "      <td>Welcome back! 🙌</td>\n",
       "    </tr>\n",
       "    <tr>\n",
       "      <th>5</th>\n",
       "      <td>492.0</td>\n",
       "      <td>Contest: Win a fan of his ass. #thatisall Thanks!</td>\n",
       "    </tr>\n",
       "    <tr>\n",
       "      <th>6</th>\n",
       "      <td>158.0</td>\n",
       "      <td>80's &amp; friends! ✈️</td>\n",
       "    </tr>\n",
       "    <tr>\n",
       "      <th>7</th>\n",
       "      <td>NaN</td>\n",
       "      <td>Thank you guess how did I feel somewhat offend...</td>\n",
       "    </tr>\n",
       "    <tr>\n",
       "      <th>8</th>\n",
       "      <td>198.0</td>\n",
       "      <td>OnePlus 8 international giveaway classifies</td>\n",
       "    </tr>\n",
       "    <tr>\n",
       "      <th>9</th>\n",
       "      <td>272.0</td>\n",
       "      <td>Here it is.. Retweet this desperate</td>\n",
       "    </tr>\n",
       "    <tr>\n",
       "      <th>10</th>\n",
       "      <td>43.0</td>\n",
       "      <td>Great to advertise during the year I tweeted a...</td>\n",
       "    </tr>\n",
       "    <tr>\n",
       "      <th>11</th>\n",
       "      <td>349.0</td>\n",
       "      <td>Its been in love with the game with the origin...</td>\n",
       "    </tr>\n",
       "    <tr>\n",
       "      <th>12</th>\n",
       "      <td>467.0</td>\n",
       "      <td>Programming is the best!</td>\n",
       "    </tr>\n",
       "    <tr>\n",
       "      <th>13</th>\n",
       "      <td>50.0</td>\n",
       "      <td>I cannot believe this!</td>\n",
       "    </tr>\n",
       "    <tr>\n",
       "      <th>14</th>\n",
       "      <td>418.0</td>\n",
       "      <td>Buy this product NOW!!</td>\n",
       "    </tr>\n",
       "    <tr>\n",
       "      <th>15</th>\n",
       "      <td>361.0</td>\n",
       "      <td>I have one is best color gradients: Just relea...</td>\n",
       "    </tr>\n",
       "    <tr>\n",
       "      <th>16</th>\n",
       "      <td>346.0</td>\n",
       "      <td>PIC!!</td>\n",
       "    </tr>\n",
       "    <tr>\n",
       "      <th>17</th>\n",
       "      <td>296.0</td>\n",
       "      <td>hmmm feeling bad today</td>\n",
       "    </tr>\n",
       "    <tr>\n",
       "      <th>18</th>\n",
       "      <td>315.0</td>\n",
       "      <td>not feeling god right now</td>\n",
       "    </tr>\n",
       "    <tr>\n",
       "      <th>19</th>\n",
       "      <td>133.0</td>\n",
       "      <td>Programming is a hot topic!</td>\n",
       "    </tr>\n",
       "    <tr>\n",
       "      <th>20</th>\n",
       "      <td>92.0</td>\n",
       "      <td>Programming? i love it!</td>\n",
       "    </tr>\n",
       "    <tr>\n",
       "      <th>21</th>\n",
       "      <td>255.0</td>\n",
       "      <td>WHAT???</td>\n",
       "    </tr>\n",
       "    <tr>\n",
       "      <th>22</th>\n",
       "      <td>432.0</td>\n",
       "      <td>Amazing video by Leonardo!</td>\n",
       "    </tr>\n",
       "    <tr>\n",
       "      <th>23</th>\n",
       "      <td>430.0</td>\n",
       "      <td>Thanks man!</td>\n",
       "    </tr>\n",
       "    <tr>\n",
       "      <th>24</th>\n",
       "      <td>424.0</td>\n",
       "      <td>There is nothing better than programming!</td>\n",
       "    </tr>\n",
       "    <tr>\n",
       "      <th>25</th>\n",
       "      <td>488.0</td>\n",
       "      <td>BORED AF</td>\n",
       "    </tr>\n",
       "    <tr>\n",
       "      <th>26</th>\n",
       "      <td>318.0</td>\n",
       "      <td>I do not know if i like programming or other t...</td>\n",
       "    </tr>\n",
       "  </tbody>\n",
       "</table>\n",
       "</div>"
      ],
      "text/plain": [
       "    favorites                                          full_text\n",
       "0        23.0  Flying home to run down from the power to comi...\n",
       "1       500.0                Today we commemorate and MNML Case.\n",
       "2       190.0       Today we have reached US$6.55 Billion TT$44…\n",
       "3       131.0  Faking It by Joel Atwell. Written by Other cou...\n",
       "4       113.0                                    Welcome back! 🙌\n",
       "5       492.0  Contest: Win a fan of his ass. #thatisall Thanks!\n",
       "6       158.0                                 80's & friends! ✈️\n",
       "7         NaN  Thank you guess how did I feel somewhat offend...\n",
       "8       198.0        OnePlus 8 international giveaway classifies\n",
       "9       272.0                Here it is.. Retweet this desperate\n",
       "10       43.0  Great to advertise during the year I tweeted a...\n",
       "11      349.0  Its been in love with the game with the origin...\n",
       "12      467.0                           Programming is the best!\n",
       "13       50.0                             I cannot believe this!\n",
       "14      418.0                             Buy this product NOW!!\n",
       "15      361.0  I have one is best color gradients: Just relea...\n",
       "16      346.0                                              PIC!!\n",
       "17      296.0                             hmmm feeling bad today\n",
       "18      315.0                          not feeling god right now\n",
       "19      133.0                        Programming is a hot topic!\n",
       "20       92.0                            Programming? i love it!\n",
       "21      255.0                                            WHAT???\n",
       "22      432.0                         Amazing video by Leonardo!\n",
       "23      430.0                                        Thanks man!\n",
       "24      424.0          There is nothing better than programming!\n",
       "25      488.0                                           BORED AF\n",
       "26      318.0  I do not know if i like programming or other t..."
      ]
     },
     "execution_count": 6,
     "metadata": {},
     "output_type": "execute_result"
    }
   ],
   "source": [
    "df[[\"favorites\",\"full_text\"]] # si yo quisiera tener el numero de favoritos y el texto Recordar que el identificadora de cada fila  "
   ]
  },
  {
   "cell_type": "markdown",
   "id": "bdc4187d",
   "metadata": {},
   "source": [
    "Identificar las filas"
   ]
  },
  {
   "cell_type": "markdown",
   "id": "0a73c6d3",
   "metadata": {},
   "source": [
    "Manera Numero 1"
   ]
  },
  {
   "cell_type": "code",
   "execution_count": 7,
   "id": "d77dea8c",
   "metadata": {},
   "outputs": [
    {
     "data": {
      "application/vnd.microsoft.datawrangler.viewer.v0+json": {
       "columns": [
        {
         "name": "index",
         "rawType": "int64",
         "type": "integer"
        },
        {
         "name": "id",
         "rawType": "int64",
         "type": "integer"
        },
        {
         "name": "full_text",
         "rawType": "object",
         "type": "string"
        },
        {
         "name": "favorites",
         "rawType": "float64",
         "type": "float"
        },
        {
         "name": "retweets",
         "rawType": "float64",
         "type": "float"
        },
        {
         "name": "mentions",
         "rawType": "float64",
         "type": "float"
        },
        {
         "name": "country",
         "rawType": "object",
         "type": "string"
        },
        {
         "name": "user",
         "rawType": "object",
         "type": "string"
        },
        {
         "name": "followers",
         "rawType": "float64",
         "type": "float"
        },
        {
         "name": "followees",
         "rawType": "int64",
         "type": "integer"
        }
       ],
       "ref": "2b1d0916-5f74-41e1-852f-d6cca855fd27",
       "rows": [
        [
         "1",
         "183722",
         "Today we commemorate and MNML Case.",
         "500.0",
         "21.0",
         null,
         "BRASIL",
         "mateusmartins",
         "982.0",
         "1822"
        ],
        [
         "2",
         "183723",
         "Today we have reached US$6.55 Billion TT$44…",
         "190.0",
         "123.0",
         "6.0",
         "MEXICO",
         "pedrojuarez",
         "12.0",
         "129"
        ],
        [
         "3",
         "183724",
         "Faking It by Joel Atwell. Written by Other countries have devalued their currency retrenched thousands?",
         "131.0",
         "76.0",
         "3.0",
         "ECUADOR",
         "galocastillo",
         "332.0",
         "378"
        ],
        [
         "4",
         "183725",
         "Welcome back! 🙌",
         "113.0",
         "130.0",
         "9.0",
         "MEXICO",
         "pedrojuarez",
         "12.0",
         "129"
        ]
       ],
       "shape": {
        "columns": 9,
        "rows": 4
       }
      },
      "text/html": [
       "<div>\n",
       "<style scoped>\n",
       "    .dataframe tbody tr th:only-of-type {\n",
       "        vertical-align: middle;\n",
       "    }\n",
       "\n",
       "    .dataframe tbody tr th {\n",
       "        vertical-align: top;\n",
       "    }\n",
       "\n",
       "    .dataframe thead th {\n",
       "        text-align: right;\n",
       "    }\n",
       "</style>\n",
       "<table border=\"1\" class=\"dataframe\">\n",
       "  <thead>\n",
       "    <tr style=\"text-align: right;\">\n",
       "      <th></th>\n",
       "      <th>id</th>\n",
       "      <th>full_text</th>\n",
       "      <th>favorites</th>\n",
       "      <th>retweets</th>\n",
       "      <th>mentions</th>\n",
       "      <th>country</th>\n",
       "      <th>user</th>\n",
       "      <th>followers</th>\n",
       "      <th>followees</th>\n",
       "    </tr>\n",
       "  </thead>\n",
       "  <tbody>\n",
       "    <tr>\n",
       "      <th>1</th>\n",
       "      <td>183722</td>\n",
       "      <td>Today we commemorate and MNML Case.</td>\n",
       "      <td>500.0</td>\n",
       "      <td>21.0</td>\n",
       "      <td>NaN</td>\n",
       "      <td>BRASIL</td>\n",
       "      <td>mateusmartins</td>\n",
       "      <td>982.0</td>\n",
       "      <td>1822</td>\n",
       "    </tr>\n",
       "    <tr>\n",
       "      <th>2</th>\n",
       "      <td>183723</td>\n",
       "      <td>Today we have reached US$6.55 Billion TT$44…</td>\n",
       "      <td>190.0</td>\n",
       "      <td>123.0</td>\n",
       "      <td>6.0</td>\n",
       "      <td>MEXICO</td>\n",
       "      <td>pedrojuarez</td>\n",
       "      <td>12.0</td>\n",
       "      <td>129</td>\n",
       "    </tr>\n",
       "    <tr>\n",
       "      <th>3</th>\n",
       "      <td>183724</td>\n",
       "      <td>Faking It by Joel Atwell. Written by Other cou...</td>\n",
       "      <td>131.0</td>\n",
       "      <td>76.0</td>\n",
       "      <td>3.0</td>\n",
       "      <td>ECUADOR</td>\n",
       "      <td>galocastillo</td>\n",
       "      <td>332.0</td>\n",
       "      <td>378</td>\n",
       "    </tr>\n",
       "    <tr>\n",
       "      <th>4</th>\n",
       "      <td>183725</td>\n",
       "      <td>Welcome back! 🙌</td>\n",
       "      <td>113.0</td>\n",
       "      <td>130.0</td>\n",
       "      <td>9.0</td>\n",
       "      <td>MEXICO</td>\n",
       "      <td>pedrojuarez</td>\n",
       "      <td>12.0</td>\n",
       "      <td>129</td>\n",
       "    </tr>\n",
       "  </tbody>\n",
       "</table>\n",
       "</div>"
      ],
      "text/plain": [
       "       id                                          full_text  favorites  \\\n",
       "1  183722                Today we commemorate and MNML Case.      500.0   \n",
       "2  183723       Today we have reached US$6.55 Billion TT$44…      190.0   \n",
       "3  183724  Faking It by Joel Atwell. Written by Other cou...      131.0   \n",
       "4  183725                                    Welcome back! 🙌      113.0   \n",
       "\n",
       "   retweets  mentions  country           user  followers  followees  \n",
       "1      21.0       NaN   BRASIL  mateusmartins      982.0       1822  \n",
       "2     123.0       6.0   MEXICO    pedrojuarez       12.0        129  \n",
       "3      76.0       3.0  ECUADOR   galocastillo      332.0        378  \n",
       "4     130.0       9.0   MEXICO    pedrojuarez       12.0        129  "
      ]
     },
     "execution_count": 7,
     "metadata": {},
     "output_type": "execute_result"
    }
   ],
   "source": [
    "df.iloc[[1,2,3,4]] # si yo quisiera tener las filas 0,1,2,3 y 4"
   ]
  },
  {
   "cell_type": "markdown",
   "id": "59b873ff",
   "metadata": {},
   "source": [
    "Manera 2 por identificador"
   ]
  },
  {
   "cell_type": "code",
   "execution_count": 8,
   "id": "e7054519",
   "metadata": {},
   "outputs": [
    {
     "name": "stdout",
     "output_type": "stream",
     "text": [
      "       id                                          full_text  favorites  \\\n",
      "0  183721  Flying home to run down from the power to comi...       23.0   \n",
      "1  183722                Today we commemorate and MNML Case.      500.0   \n",
      "2  183723       Today we have reached US$6.55 Billion TT$44…      190.0   \n",
      "3  183724  Faking It by Joel Atwell. Written by Other cou...      131.0   \n",
      "4  183725                                    Welcome back! 🙌      113.0   \n",
      "\n",
      "   retweets  mentions  country           user  followers  followees  \n",
      "0       NaN      10.0  ECUADOR  leonardokuffo      389.0        258  \n",
      "1      21.0       NaN   BRASIL  mateusmartins      982.0       1822  \n",
      "2     123.0       6.0   MEXICO    pedrojuarez       12.0        129  \n",
      "3      76.0       3.0  ECUADOR   galocastillo      332.0        378  \n",
      "4     130.0       9.0   MEXICO    pedrojuarez       12.0        129  \n"
     ]
    }
   ],
   "source": [
    "primeras_cinco_filas = df.iloc[0:5]\n",
    "\n",
    "print(primeras_cinco_filas)\n"
   ]
  }
 ],
 "metadata": {
  "kernelspec": {
   "display_name": ".venv",
   "language": "python",
   "name": "python3"
  },
  "language_info": {
   "codemirror_mode": {
    "name": "ipython",
    "version": 3
   },
   "file_extension": ".py",
   "mimetype": "text/x-python",
   "name": "python",
   "nbconvert_exporter": "python",
   "pygments_lexer": "ipython3",
   "version": "3.12.10"
  }
 },
 "nbformat": 4,
 "nbformat_minor": 5
}
