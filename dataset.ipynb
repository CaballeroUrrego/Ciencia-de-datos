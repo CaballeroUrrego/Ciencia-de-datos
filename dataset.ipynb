{
 "cells": [
  {
   "cell_type": "markdown",
   "id": "d7222b28",
   "metadata": {},
   "source": [
    "Cargar datos: \n",
    "Importamos pandas y leemos el archivo csv\n",
    "Descubrir los datos"
   ]
  },
  {
   "cell_type": "code",
   "execution_count": 1,
   "id": "67d34f1a",
   "metadata": {},
   "outputs": [
    {
     "name": "stdout",
     "output_type": "stream",
     "text": [
      "DataFrame cargado correctamente:\n"
     ]
    },
    {
     "data": {
      "application/vnd.microsoft.datawrangler.viewer.v0+json": {
       "columns": [
        {
         "name": "id",
         "rawType": "int64",
         "type": "integer"
        },
        {
         "name": "full_text",
         "rawType": "object",
         "type": "string"
        },
        {
         "name": "favorites",
         "rawType": "float64",
         "type": "float"
        },
        {
         "name": "retweets",
         "rawType": "float64",
         "type": "float"
        },
        {
         "name": "mentions",
         "rawType": "float64",
         "type": "float"
        },
        {
         "name": "country",
         "rawType": "object",
         "type": "string"
        },
        {
         "name": "user",
         "rawType": "object",
         "type": "string"
        },
        {
         "name": "followers",
         "rawType": "float64",
         "type": "float"
        },
        {
         "name": "followees",
         "rawType": "int64",
         "type": "integer"
        }
       ],
       "ref": "1c908da9-0e9d-44bb-ba4e-967499b01a14",
       "rows": [
        [
         "183721",
         "Flying home to run down from the power to coming right up. 💁‍♂️😭 Today we have devalued their.",
         "23.0",
         null,
         "10.0",
         "ECUADOR",
         "leonardokuffo",
         "389.0",
         "258"
        ],
        [
         "183722",
         "Today we commemorate and MNML Case.",
         "500.0",
         "21.0",
         null,
         "BRASIL",
         "mateusmartins",
         "982.0",
         "1822"
        ],
        [
         "183723",
         "Today we have reached US$6.55 Billion TT$44…",
         "190.0",
         "123.0",
         "6.0",
         "MEXICO",
         "pedrojuarez",
         "12.0",
         "129"
        ],
        [
         "183724",
         "Faking It by Joel Atwell. Written by Other countries have devalued their currency retrenched thousands?",
         "131.0",
         "76.0",
         "3.0",
         "ECUADOR",
         "galocastillo",
         "332.0",
         "378"
        ],
        [
         "183725",
         "Welcome back! 🙌",
         "113.0",
         "130.0",
         "9.0",
         "MEXICO",
         "pedrojuarez",
         "12.0",
         "129"
        ]
       ],
       "shape": {
        "columns": 8,
        "rows": 5
       }
      },
      "text/html": [
       "<div>\n",
       "<style scoped>\n",
       "    .dataframe tbody tr th:only-of-type {\n",
       "        vertical-align: middle;\n",
       "    }\n",
       "\n",
       "    .dataframe tbody tr th {\n",
       "        vertical-align: top;\n",
       "    }\n",
       "\n",
       "    .dataframe thead th {\n",
       "        text-align: right;\n",
       "    }\n",
       "</style>\n",
       "<table border=\"1\" class=\"dataframe\">\n",
       "  <thead>\n",
       "    <tr style=\"text-align: right;\">\n",
       "      <th></th>\n",
       "      <th>full_text</th>\n",
       "      <th>favorites</th>\n",
       "      <th>retweets</th>\n",
       "      <th>mentions</th>\n",
       "      <th>country</th>\n",
       "      <th>user</th>\n",
       "      <th>followers</th>\n",
       "      <th>followees</th>\n",
       "    </tr>\n",
       "    <tr>\n",
       "      <th>id</th>\n",
       "      <th></th>\n",
       "      <th></th>\n",
       "      <th></th>\n",
       "      <th></th>\n",
       "      <th></th>\n",
       "      <th></th>\n",
       "      <th></th>\n",
       "      <th></th>\n",
       "    </tr>\n",
       "  </thead>\n",
       "  <tbody>\n",
       "    <tr>\n",
       "      <th>183721</th>\n",
       "      <td>Flying home to run down from the power to comi...</td>\n",
       "      <td>23.0</td>\n",
       "      <td>NaN</td>\n",
       "      <td>10.0</td>\n",
       "      <td>ECUADOR</td>\n",
       "      <td>leonardokuffo</td>\n",
       "      <td>389.0</td>\n",
       "      <td>258</td>\n",
       "    </tr>\n",
       "    <tr>\n",
       "      <th>183722</th>\n",
       "      <td>Today we commemorate and MNML Case.</td>\n",
       "      <td>500.0</td>\n",
       "      <td>21.0</td>\n",
       "      <td>NaN</td>\n",
       "      <td>BRASIL</td>\n",
       "      <td>mateusmartins</td>\n",
       "      <td>982.0</td>\n",
       "      <td>1822</td>\n",
       "    </tr>\n",
       "    <tr>\n",
       "      <th>183723</th>\n",
       "      <td>Today we have reached US$6.55 Billion TT$44…</td>\n",
       "      <td>190.0</td>\n",
       "      <td>123.0</td>\n",
       "      <td>6.0</td>\n",
       "      <td>MEXICO</td>\n",
       "      <td>pedrojuarez</td>\n",
       "      <td>12.0</td>\n",
       "      <td>129</td>\n",
       "    </tr>\n",
       "    <tr>\n",
       "      <th>183724</th>\n",
       "      <td>Faking It by Joel Atwell. Written by Other cou...</td>\n",
       "      <td>131.0</td>\n",
       "      <td>76.0</td>\n",
       "      <td>3.0</td>\n",
       "      <td>ECUADOR</td>\n",
       "      <td>galocastillo</td>\n",
       "      <td>332.0</td>\n",
       "      <td>378</td>\n",
       "    </tr>\n",
       "    <tr>\n",
       "      <th>183725</th>\n",
       "      <td>Welcome back! 🙌</td>\n",
       "      <td>113.0</td>\n",
       "      <td>130.0</td>\n",
       "      <td>9.0</td>\n",
       "      <td>MEXICO</td>\n",
       "      <td>pedrojuarez</td>\n",
       "      <td>12.0</td>\n",
       "      <td>129</td>\n",
       "    </tr>\n",
       "  </tbody>\n",
       "</table>\n",
       "</div>"
      ],
      "text/plain": [
       "                                                full_text  favorites  \\\n",
       "id                                                                     \n",
       "183721  Flying home to run down from the power to comi...       23.0   \n",
       "183722                Today we commemorate and MNML Case.      500.0   \n",
       "183723       Today we have reached US$6.55 Billion TT$44…      190.0   \n",
       "183724  Faking It by Joel Atwell. Written by Other cou...      131.0   \n",
       "183725                                    Welcome back! 🙌      113.0   \n",
       "\n",
       "        retweets  mentions  country           user  followers  followees  \n",
       "id                                                                        \n",
       "183721       NaN      10.0  ECUADOR  leonardokuffo      389.0        258  \n",
       "183722      21.0       NaN   BRASIL  mateusmartins      982.0       1822  \n",
       "183723     123.0       6.0   MEXICO    pedrojuarez       12.0        129  \n",
       "183724      76.0       3.0  ECUADOR   galocastillo      332.0        378  \n",
       "183725     130.0       9.0   MEXICO    pedrojuarez       12.0        129  "
      ]
     },
     "execution_count": 1,
     "metadata": {},
     "output_type": "execute_result"
    }
   ],
   "source": [
    "import pandas as pd\n",
    "\n",
    "df = pd.read_csv('C:/Users/se302/Documents/PROGRAMACION/Ciencia de datos/doc/dataset.csv',index_col=\"id\")\n",
    "\n",
    "print(\"DataFrame cargado correctamente:\")\n",
    "df.head() #primeras 5 filas de la DataFrame\n",
    "#df.tail(19) # últimas 5 o mas filas de el DataFrame\n",
    "#df.describe() # descripción estadística de las columnas numéricas\n",
    "\n"
   ]
  },
  {
   "cell_type": "markdown",
   "id": "34f3b077",
   "metadata": {},
   "source": [
    "Limpieza de datos:Muchas veces es necesario limpiar datos para que se puedan trabajar con ellos."
   ]
  },
  {
   "cell_type": "markdown",
   "id": "41995d57",
   "metadata": {},
   "source": [
    "Ejemplo:Muchas veces habran datos incompleto o espacios vacios,nosotros podemos dentro de pandas desasernos o llenar con valores por defecto."
   ]
  },
  {
   "cell_type": "code",
   "execution_count": 2,
   "id": "322c59d1",
   "metadata": {},
   "outputs": [
    {
     "data": {
      "application/vnd.microsoft.datawrangler.viewer.v0+json": {
       "columns": [
        {
         "name": "id",
         "rawType": "int64",
         "type": "integer"
        },
        {
         "name": "full_text",
         "rawType": "object",
         "type": "string"
        },
        {
         "name": "favorites",
         "rawType": "float64",
         "type": "float"
        },
        {
         "name": "retweets",
         "rawType": "float64",
         "type": "float"
        },
        {
         "name": "mentions",
         "rawType": "float64",
         "type": "float"
        },
        {
         "name": "country",
         "rawType": "object",
         "type": "string"
        },
        {
         "name": "user",
         "rawType": "object",
         "type": "string"
        },
        {
         "name": "followers",
         "rawType": "float64",
         "type": "float"
        },
        {
         "name": "followees",
         "rawType": "int64",
         "type": "integer"
        }
       ],
       "ref": "c72c954b-1c50-4df1-8347-a7e91dc751f7",
       "rows": [
        [
         "183723",
         "Today we have reached US$6.55 Billion TT$44…",
         "190.0",
         "123.0",
         "6.0",
         "MEXICO",
         "pedrojuarez",
         "12.0",
         "129"
        ],
        [
         "183724",
         "Faking It by Joel Atwell. Written by Other countries have devalued their currency retrenched thousands?",
         "131.0",
         "76.0",
         "3.0",
         "ECUADOR",
         "galocastillo",
         "332.0",
         "378"
        ],
        [
         "183725",
         "Welcome back! 🙌",
         "113.0",
         "130.0",
         "9.0",
         "MEXICO",
         "pedrojuarez",
         "12.0",
         "129"
        ],
        [
         "183726",
         "Contest: Win a fan of his ass. #thatisall Thanks!",
         "492.0",
         "70.0",
         "6.0",
         "BRASIL",
         "mateusmartins",
         "982.0",
         "1822"
        ],
        [
         "183727",
         "80's & friends! ✈️",
         "158.0",
         "40.0",
         "22.0",
         "ECUADOR",
         "leonardokuffo",
         "389.0",
         "258"
        ]
       ],
       "shape": {
        "columns": 8,
        "rows": 5
       }
      },
      "text/html": [
       "<div>\n",
       "<style scoped>\n",
       "    .dataframe tbody tr th:only-of-type {\n",
       "        vertical-align: middle;\n",
       "    }\n",
       "\n",
       "    .dataframe tbody tr th {\n",
       "        vertical-align: top;\n",
       "    }\n",
       "\n",
       "    .dataframe thead th {\n",
       "        text-align: right;\n",
       "    }\n",
       "</style>\n",
       "<table border=\"1\" class=\"dataframe\">\n",
       "  <thead>\n",
       "    <tr style=\"text-align: right;\">\n",
       "      <th></th>\n",
       "      <th>full_text</th>\n",
       "      <th>favorites</th>\n",
       "      <th>retweets</th>\n",
       "      <th>mentions</th>\n",
       "      <th>country</th>\n",
       "      <th>user</th>\n",
       "      <th>followers</th>\n",
       "      <th>followees</th>\n",
       "    </tr>\n",
       "    <tr>\n",
       "      <th>id</th>\n",
       "      <th></th>\n",
       "      <th></th>\n",
       "      <th></th>\n",
       "      <th></th>\n",
       "      <th></th>\n",
       "      <th></th>\n",
       "      <th></th>\n",
       "      <th></th>\n",
       "    </tr>\n",
       "  </thead>\n",
       "  <tbody>\n",
       "    <tr>\n",
       "      <th>183723</th>\n",
       "      <td>Today we have reached US$6.55 Billion TT$44…</td>\n",
       "      <td>190.0</td>\n",
       "      <td>123.0</td>\n",
       "      <td>6.0</td>\n",
       "      <td>MEXICO</td>\n",
       "      <td>pedrojuarez</td>\n",
       "      <td>12.0</td>\n",
       "      <td>129</td>\n",
       "    </tr>\n",
       "    <tr>\n",
       "      <th>183724</th>\n",
       "      <td>Faking It by Joel Atwell. Written by Other cou...</td>\n",
       "      <td>131.0</td>\n",
       "      <td>76.0</td>\n",
       "      <td>3.0</td>\n",
       "      <td>ECUADOR</td>\n",
       "      <td>galocastillo</td>\n",
       "      <td>332.0</td>\n",
       "      <td>378</td>\n",
       "    </tr>\n",
       "    <tr>\n",
       "      <th>183725</th>\n",
       "      <td>Welcome back! 🙌</td>\n",
       "      <td>113.0</td>\n",
       "      <td>130.0</td>\n",
       "      <td>9.0</td>\n",
       "      <td>MEXICO</td>\n",
       "      <td>pedrojuarez</td>\n",
       "      <td>12.0</td>\n",
       "      <td>129</td>\n",
       "    </tr>\n",
       "    <tr>\n",
       "      <th>183726</th>\n",
       "      <td>Contest: Win a fan of his ass. #thatisall Thanks!</td>\n",
       "      <td>492.0</td>\n",
       "      <td>70.0</td>\n",
       "      <td>6.0</td>\n",
       "      <td>BRASIL</td>\n",
       "      <td>mateusmartins</td>\n",
       "      <td>982.0</td>\n",
       "      <td>1822</td>\n",
       "    </tr>\n",
       "    <tr>\n",
       "      <th>183727</th>\n",
       "      <td>80's &amp; friends! ✈️</td>\n",
       "      <td>158.0</td>\n",
       "      <td>40.0</td>\n",
       "      <td>22.0</td>\n",
       "      <td>ECUADOR</td>\n",
       "      <td>leonardokuffo</td>\n",
       "      <td>389.0</td>\n",
       "      <td>258</td>\n",
       "    </tr>\n",
       "  </tbody>\n",
       "</table>\n",
       "</div>"
      ],
      "text/plain": [
       "                                                full_text  favorites  \\\n",
       "id                                                                     \n",
       "183723       Today we have reached US$6.55 Billion TT$44…      190.0   \n",
       "183724  Faking It by Joel Atwell. Written by Other cou...      131.0   \n",
       "183725                                    Welcome back! 🙌      113.0   \n",
       "183726  Contest: Win a fan of his ass. #thatisall Thanks!      492.0   \n",
       "183727                                 80's & friends! ✈️      158.0   \n",
       "\n",
       "        retweets  mentions  country           user  followers  followees  \n",
       "id                                                                        \n",
       "183723     123.0       6.0   MEXICO    pedrojuarez       12.0        129  \n",
       "183724      76.0       3.0  ECUADOR   galocastillo      332.0        378  \n",
       "183725     130.0       9.0   MEXICO    pedrojuarez       12.0        129  \n",
       "183726      70.0       6.0   BRASIL  mateusmartins      982.0       1822  \n",
       "183727      40.0      22.0  ECUADOR  leonardokuffo      389.0        258  "
      ]
     },
     "execution_count": 2,
     "metadata": {},
     "output_type": "execute_result"
    }
   ],
   "source": [
    "df_filtrado = df.dropna()\n",
    "df_filtrado.head()"
   ]
  },
  {
   "cell_type": "markdown",
   "id": "117d4ee0",
   "metadata": {},
   "source": [
    "🔼En el dataframe podemos vizualizar que me a eliminado las filas que tenian el valor la funcion:df_filtrado = df.dropna() Elimina las filas que tienen datos incompletos"
   ]
  },
  {
   "cell_type": "markdown",
   "id": "0a9b2d78",
   "metadata": {},
   "source": [
    "¿Pero si no los queremos eliminar por completo?🔽"
   ]
  },
  {
   "cell_type": "code",
   "execution_count": 3,
   "id": "96e12214",
   "metadata": {},
   "outputs": [
    {
     "data": {
      "application/vnd.microsoft.datawrangler.viewer.v0+json": {
       "columns": [
        {
         "name": "id",
         "rawType": "int64",
         "type": "integer"
        },
        {
         "name": "full_text",
         "rawType": "object",
         "type": "string"
        },
        {
         "name": "favorites",
         "rawType": "float64",
         "type": "float"
        },
        {
         "name": "retweets",
         "rawType": "float64",
         "type": "float"
        },
        {
         "name": "mentions",
         "rawType": "float64",
         "type": "float"
        },
        {
         "name": "country",
         "rawType": "object",
         "type": "string"
        },
        {
         "name": "user",
         "rawType": "object",
         "type": "string"
        },
        {
         "name": "followers",
         "rawType": "float64",
         "type": "float"
        },
        {
         "name": "followees",
         "rawType": "int64",
         "type": "integer"
        }
       ],
       "ref": "a926270a-4838-441e-b89e-47109989967d",
       "rows": [
        [
         "183721",
         "Flying home to run down from the power to coming right up. 💁‍♂️😭 Today we have devalued their.",
         "23.0",
         "0.0",
         "10.0",
         "ECUADOR",
         "leonardokuffo",
         "389.0",
         "258"
        ],
        [
         "183722",
         "Today we commemorate and MNML Case.",
         "500.0",
         "21.0",
         "0.0",
         "BRASIL",
         "mateusmartins",
         "982.0",
         "1822"
        ],
        [
         "183723",
         "Today we have reached US$6.55 Billion TT$44…",
         "190.0",
         "123.0",
         "6.0",
         "MEXICO",
         "pedrojuarez",
         "12.0",
         "129"
        ],
        [
         "183724",
         "Faking It by Joel Atwell. Written by Other countries have devalued their currency retrenched thousands?",
         "131.0",
         "76.0",
         "3.0",
         "ECUADOR",
         "galocastillo",
         "332.0",
         "378"
        ],
        [
         "183725",
         "Welcome back! 🙌",
         "113.0",
         "130.0",
         "9.0",
         "MEXICO",
         "pedrojuarez",
         "12.0",
         "129"
        ]
       ],
       "shape": {
        "columns": 8,
        "rows": 5
       }
      },
      "text/html": [
       "<div>\n",
       "<style scoped>\n",
       "    .dataframe tbody tr th:only-of-type {\n",
       "        vertical-align: middle;\n",
       "    }\n",
       "\n",
       "    .dataframe tbody tr th {\n",
       "        vertical-align: top;\n",
       "    }\n",
       "\n",
       "    .dataframe thead th {\n",
       "        text-align: right;\n",
       "    }\n",
       "</style>\n",
       "<table border=\"1\" class=\"dataframe\">\n",
       "  <thead>\n",
       "    <tr style=\"text-align: right;\">\n",
       "      <th></th>\n",
       "      <th>full_text</th>\n",
       "      <th>favorites</th>\n",
       "      <th>retweets</th>\n",
       "      <th>mentions</th>\n",
       "      <th>country</th>\n",
       "      <th>user</th>\n",
       "      <th>followers</th>\n",
       "      <th>followees</th>\n",
       "    </tr>\n",
       "    <tr>\n",
       "      <th>id</th>\n",
       "      <th></th>\n",
       "      <th></th>\n",
       "      <th></th>\n",
       "      <th></th>\n",
       "      <th></th>\n",
       "      <th></th>\n",
       "      <th></th>\n",
       "      <th></th>\n",
       "    </tr>\n",
       "  </thead>\n",
       "  <tbody>\n",
       "    <tr>\n",
       "      <th>183721</th>\n",
       "      <td>Flying home to run down from the power to comi...</td>\n",
       "      <td>23.0</td>\n",
       "      <td>0.0</td>\n",
       "      <td>10.0</td>\n",
       "      <td>ECUADOR</td>\n",
       "      <td>leonardokuffo</td>\n",
       "      <td>389.0</td>\n",
       "      <td>258</td>\n",
       "    </tr>\n",
       "    <tr>\n",
       "      <th>183722</th>\n",
       "      <td>Today we commemorate and MNML Case.</td>\n",
       "      <td>500.0</td>\n",
       "      <td>21.0</td>\n",
       "      <td>0.0</td>\n",
       "      <td>BRASIL</td>\n",
       "      <td>mateusmartins</td>\n",
       "      <td>982.0</td>\n",
       "      <td>1822</td>\n",
       "    </tr>\n",
       "    <tr>\n",
       "      <th>183723</th>\n",
       "      <td>Today we have reached US$6.55 Billion TT$44…</td>\n",
       "      <td>190.0</td>\n",
       "      <td>123.0</td>\n",
       "      <td>6.0</td>\n",
       "      <td>MEXICO</td>\n",
       "      <td>pedrojuarez</td>\n",
       "      <td>12.0</td>\n",
       "      <td>129</td>\n",
       "    </tr>\n",
       "    <tr>\n",
       "      <th>183724</th>\n",
       "      <td>Faking It by Joel Atwell. Written by Other cou...</td>\n",
       "      <td>131.0</td>\n",
       "      <td>76.0</td>\n",
       "      <td>3.0</td>\n",
       "      <td>ECUADOR</td>\n",
       "      <td>galocastillo</td>\n",
       "      <td>332.0</td>\n",
       "      <td>378</td>\n",
       "    </tr>\n",
       "    <tr>\n",
       "      <th>183725</th>\n",
       "      <td>Welcome back! 🙌</td>\n",
       "      <td>113.0</td>\n",
       "      <td>130.0</td>\n",
       "      <td>9.0</td>\n",
       "      <td>MEXICO</td>\n",
       "      <td>pedrojuarez</td>\n",
       "      <td>12.0</td>\n",
       "      <td>129</td>\n",
       "    </tr>\n",
       "  </tbody>\n",
       "</table>\n",
       "</div>"
      ],
      "text/plain": [
       "                                                full_text  favorites  \\\n",
       "id                                                                     \n",
       "183721  Flying home to run down from the power to comi...       23.0   \n",
       "183722                Today we commemorate and MNML Case.      500.0   \n",
       "183723       Today we have reached US$6.55 Billion TT$44…      190.0   \n",
       "183724  Faking It by Joel Atwell. Written by Other cou...      131.0   \n",
       "183725                                    Welcome back! 🙌      113.0   \n",
       "\n",
       "        retweets  mentions  country           user  followers  followees  \n",
       "id                                                                        \n",
       "183721       0.0      10.0  ECUADOR  leonardokuffo      389.0        258  \n",
       "183722      21.0       0.0   BRASIL  mateusmartins      982.0       1822  \n",
       "183723     123.0       6.0   MEXICO    pedrojuarez       12.0        129  \n",
       "183724      76.0       3.0  ECUADOR   galocastillo      332.0        378  \n",
       "183725     130.0       9.0   MEXICO    pedrojuarez       12.0        129  "
      ]
     },
     "execution_count": 3,
     "metadata": {},
     "output_type": "execute_result"
    }
   ],
   "source": [
    "df_filtrado = df.fillna (0) #nos va a llenar la columna con el dato 0\n",
    "df_filtrado.head()"
   ]
  },
  {
   "cell_type": "markdown",
   "id": "ba5f428a",
   "metadata": {},
   "source": [
    "Avanzado:Algo mas complejo es cuando tengo que llenar datos dentro de la columna"
   ]
  },
  {
   "cell_type": "code",
   "execution_count": 4,
   "id": "06eba0a2",
   "metadata": {},
   "outputs": [
    {
     "data": {
      "application/vnd.microsoft.datawrangler.viewer.v0+json": {
       "columns": [
        {
         "name": "id",
         "rawType": "int64",
         "type": "integer"
        },
        {
         "name": "full_text",
         "rawType": "object",
         "type": "string"
        },
        {
         "name": "favorites",
         "rawType": "float64",
         "type": "float"
        },
        {
         "name": "retweets",
         "rawType": "float64",
         "type": "float"
        },
        {
         "name": "mentions",
         "rawType": "float64",
         "type": "float"
        },
        {
         "name": "country",
         "rawType": "object",
         "type": "string"
        },
        {
         "name": "user",
         "rawType": "object",
         "type": "string"
        },
        {
         "name": "followers",
         "rawType": "float64",
         "type": "float"
        },
        {
         "name": "followees",
         "rawType": "int64",
         "type": "integer"
        }
       ],
       "ref": "50a7f437-d68c-463e-911c-b2585a60508b",
       "rows": [
        [
         "183721",
         "Flying home to run down from the power to coming right up. 💁‍♂️😭 Today we have devalued their.",
         "23.0",
         "0.0",
         "10.0",
         "ECUADOR",
         "leonardokuffo",
         "389.0",
         "258"
        ],
        [
         "183722",
         "Today we commemorate and MNML Case.",
         "500.0",
         "21.0",
         "-1.0",
         "BRASIL",
         "mateusmartins",
         "982.0",
         "1822"
        ],
        [
         "183723",
         "Today we have reached US$6.55 Billion TT$44…",
         "190.0",
         "123.0",
         "6.0",
         "MEXICO",
         "pedrojuarez",
         "12.0",
         "129"
        ],
        [
         "183724",
         "Faking It by Joel Atwell. Written by Other countries have devalued their currency retrenched thousands?",
         "131.0",
         "76.0",
         "3.0",
         "ECUADOR",
         "galocastillo",
         "332.0",
         "378"
        ],
        [
         "183725",
         "Welcome back! 🙌",
         "113.0",
         "130.0",
         "9.0",
         "MEXICO",
         "pedrojuarez",
         "12.0",
         "129"
        ]
       ],
       "shape": {
        "columns": 8,
        "rows": 5
       }
      },
      "text/html": [
       "<div>\n",
       "<style scoped>\n",
       "    .dataframe tbody tr th:only-of-type {\n",
       "        vertical-align: middle;\n",
       "    }\n",
       "\n",
       "    .dataframe tbody tr th {\n",
       "        vertical-align: top;\n",
       "    }\n",
       "\n",
       "    .dataframe thead th {\n",
       "        text-align: right;\n",
       "    }\n",
       "</style>\n",
       "<table border=\"1\" class=\"dataframe\">\n",
       "  <thead>\n",
       "    <tr style=\"text-align: right;\">\n",
       "      <th></th>\n",
       "      <th>full_text</th>\n",
       "      <th>favorites</th>\n",
       "      <th>retweets</th>\n",
       "      <th>mentions</th>\n",
       "      <th>country</th>\n",
       "      <th>user</th>\n",
       "      <th>followers</th>\n",
       "      <th>followees</th>\n",
       "    </tr>\n",
       "    <tr>\n",
       "      <th>id</th>\n",
       "      <th></th>\n",
       "      <th></th>\n",
       "      <th></th>\n",
       "      <th></th>\n",
       "      <th></th>\n",
       "      <th></th>\n",
       "      <th></th>\n",
       "      <th></th>\n",
       "    </tr>\n",
       "  </thead>\n",
       "  <tbody>\n",
       "    <tr>\n",
       "      <th>183721</th>\n",
       "      <td>Flying home to run down from the power to comi...</td>\n",
       "      <td>23.0</td>\n",
       "      <td>0.0</td>\n",
       "      <td>10.0</td>\n",
       "      <td>ECUADOR</td>\n",
       "      <td>leonardokuffo</td>\n",
       "      <td>389.0</td>\n",
       "      <td>258</td>\n",
       "    </tr>\n",
       "    <tr>\n",
       "      <th>183722</th>\n",
       "      <td>Today we commemorate and MNML Case.</td>\n",
       "      <td>500.0</td>\n",
       "      <td>21.0</td>\n",
       "      <td>-1.0</td>\n",
       "      <td>BRASIL</td>\n",
       "      <td>mateusmartins</td>\n",
       "      <td>982.0</td>\n",
       "      <td>1822</td>\n",
       "    </tr>\n",
       "    <tr>\n",
       "      <th>183723</th>\n",
       "      <td>Today we have reached US$6.55 Billion TT$44…</td>\n",
       "      <td>190.0</td>\n",
       "      <td>123.0</td>\n",
       "      <td>6.0</td>\n",
       "      <td>MEXICO</td>\n",
       "      <td>pedrojuarez</td>\n",
       "      <td>12.0</td>\n",
       "      <td>129</td>\n",
       "    </tr>\n",
       "    <tr>\n",
       "      <th>183724</th>\n",
       "      <td>Faking It by Joel Atwell. Written by Other cou...</td>\n",
       "      <td>131.0</td>\n",
       "      <td>76.0</td>\n",
       "      <td>3.0</td>\n",
       "      <td>ECUADOR</td>\n",
       "      <td>galocastillo</td>\n",
       "      <td>332.0</td>\n",
       "      <td>378</td>\n",
       "    </tr>\n",
       "    <tr>\n",
       "      <th>183725</th>\n",
       "      <td>Welcome back! 🙌</td>\n",
       "      <td>113.0</td>\n",
       "      <td>130.0</td>\n",
       "      <td>9.0</td>\n",
       "      <td>MEXICO</td>\n",
       "      <td>pedrojuarez</td>\n",
       "      <td>12.0</td>\n",
       "      <td>129</td>\n",
       "    </tr>\n",
       "  </tbody>\n",
       "</table>\n",
       "</div>"
      ],
      "text/plain": [
       "                                                full_text  favorites  \\\n",
       "id                                                                     \n",
       "183721  Flying home to run down from the power to comi...       23.0   \n",
       "183722                Today we commemorate and MNML Case.      500.0   \n",
       "183723       Today we have reached US$6.55 Billion TT$44…      190.0   \n",
       "183724  Faking It by Joel Atwell. Written by Other cou...      131.0   \n",
       "183725                                    Welcome back! 🙌      113.0   \n",
       "\n",
       "        retweets  mentions  country           user  followers  followees  \n",
       "id                                                                        \n",
       "183721       0.0      10.0  ECUADOR  leonardokuffo      389.0        258  \n",
       "183722      21.0      -1.0   BRASIL  mateusmartins      982.0       1822  \n",
       "183723     123.0       6.0   MEXICO    pedrojuarez       12.0        129  \n",
       "183724      76.0       3.0  ECUADOR   galocastillo      332.0        378  \n",
       "183725     130.0       9.0   MEXICO    pedrojuarez       12.0        129  "
      ]
     },
     "execution_count": 4,
     "metadata": {},
     "output_type": "execute_result"
    }
   ],
   "source": [
    "df_filtrado = df.fillna( {\"retweets\": 0 , \"mentions\": -1} )\n",
    "df_filtrado.head()"
   ]
  },
  {
   "cell_type": "code",
   "execution_count": 5,
   "id": "eed58b17",
   "metadata": {},
   "outputs": [
    {
     "name": "stdout",
     "output_type": "stream",
     "text": [
      "Se accedió a la columna 'full_text' con éxito. Mostrando las primeras 5 entradas:\n",
      "0    Flying home to run down from the power to comi...\n",
      "1                  Today we commemorate and MNML Case.\n",
      "2         Today we have reached US$6.55 Billion TT$44…\n",
      "3    Faking It by Joel Atwell. Written by Other cou...\n",
      "4                                      Welcome back! 🙌\n",
      "Name: full_text, dtype: object\n"
     ]
    }
   ],
   "source": [
    "# 1. Importar la librería pandas (esencial para trabajar con DataFrames)\n",
    "import pandas as pd\n",
    "# 2. Definir la variable 'df' cargando tus datos desde un archivo.\n",
    "#    Asegúrate de reemplazar 'nombre_de_tu_archivo.csv' con el nombre y ruta real de tu archivo.\n",
    "try:\n",
    "    df = pd.read_csv('C:/Users/se302/Documents/PROGRAMACION/Ciencia de datos/doc/dataset.csv')\n",
    "\n",
    "    # 3. Ahora que 'df' existe, puedes usarla sin problemas.\n",
    "    #    Esta línea, que antes daba error, ahora funcionará correctamente.\n",
    "    columna_texto = df[\"full_text\"]\n",
    "\n",
    "    # 4. (Opcional pero recomendado) Imprimir las primeras filas para verificar\n",
    "    print(\"Se accedió a la columna 'full_text' con éxito. Mostrando las primeras 5 entradas:\")\n",
    "    print(columna_texto.head())\n",
    "\n",
    "\n",
    "except FileNotFoundError:\n",
    "    print(\"Error de corrección: No se encontró el archivo 'nombre_de_tu_archivo.csv'.\")\n",
    "    print(\"Por favor, verifica que el nombre y la ruta del archivo son correctos.\")\n",
    "\n",
    "except KeyError:\n",
    "    \n",
    "    print(\"Error de corrección: La columna 'full_text' no existe en el DataFrame.\")\n",
    "    print(\"Revisa si el nombre está bien escrito. Las columnas disponibles son:\")\n",
    "    print(df.columns.tolist())\n",
    "\n"
   ]
  },
  {
   "cell_type": "code",
   "execution_count": 6,
   "id": "5a57bb0b",
   "metadata": {},
   "outputs": [
    {
     "data": {
      "application/vnd.microsoft.datawrangler.viewer.v0+json": {
       "columns": [
        {
         "name": "index",
         "rawType": "int64",
         "type": "integer"
        },
        {
         "name": "favorites",
         "rawType": "float64",
         "type": "float"
        },
        {
         "name": "full_text",
         "rawType": "object",
         "type": "string"
        }
       ],
       "ref": "fe6f38b6-1daa-4bf9-b9f2-42186fb7c4e1",
       "rows": [
        [
         "0",
         "23.0",
         "Flying home to run down from the power to coming right up. 💁‍♂️😭 Today we have devalued their."
        ],
        [
         "1",
         "500.0",
         "Today we commemorate and MNML Case."
        ],
        [
         "2",
         "190.0",
         "Today we have reached US$6.55 Billion TT$44…"
        ],
        [
         "3",
         "131.0",
         "Faking It by Joel Atwell. Written by Other countries have devalued their currency retrenched thousands?"
        ],
        [
         "4",
         "113.0",
         "Welcome back! 🙌"
        ],
        [
         "5",
         "492.0",
         "Contest: Win a fan of his ass. #thatisall Thanks!"
        ],
        [
         "6",
         "158.0",
         "80's & friends! ✈️"
        ],
        [
         "7",
         null,
         "Thank you guess how did I feel somewhat offended tha"
        ],
        [
         "8",
         "198.0",
         "OnePlus 8 international giveaway classifies"
        ],
        [
         "9",
         "272.0",
         "Here it is.. Retweet this desperate"
        ],
        [
         "10",
         "43.0",
         "Great to advertise during the year I tweeted a lot from Prague"
        ],
        [
         "11",
         "349.0",
         "Its been in love with the game with the original Monokai colorization for programming"
        ],
        [
         "12",
         "467.0",
         "Programming is the best!"
        ],
        [
         "13",
         "50.0",
         "I cannot believe this!"
        ],
        [
         "14",
         "418.0",
         "Buy this product NOW!!"
        ],
        [
         "15",
         "361.0",
         "I have one is best color gradients: Just released some photos"
        ],
        [
         "16",
         "346.0",
         "PIC!!"
        ],
        [
         "17",
         "296.0",
         "hmmm feeling bad today"
        ],
        [
         "18",
         "315.0",
         "not feeling god right now"
        ],
        [
         "19",
         "133.0",
         "Programming is a hot topic!"
        ],
        [
         "20",
         "92.0",
         "Programming? i love it!"
        ],
        [
         "21",
         "255.0",
         "WHAT???"
        ],
        [
         "22",
         "432.0",
         "Amazing video by Leonardo!"
        ],
        [
         "23",
         "430.0",
         "Thanks man!"
        ],
        [
         "24",
         "424.0",
         "There is nothing better than programming!"
        ],
        [
         "25",
         "488.0",
         "BORED AF"
        ],
        [
         "26",
         "318.0",
         "I do not know if i like programming or other thing better"
        ]
       ],
       "shape": {
        "columns": 2,
        "rows": 27
       }
      },
      "text/html": [
       "<div>\n",
       "<style scoped>\n",
       "    .dataframe tbody tr th:only-of-type {\n",
       "        vertical-align: middle;\n",
       "    }\n",
       "\n",
       "    .dataframe tbody tr th {\n",
       "        vertical-align: top;\n",
       "    }\n",
       "\n",
       "    .dataframe thead th {\n",
       "        text-align: right;\n",
       "    }\n",
       "</style>\n",
       "<table border=\"1\" class=\"dataframe\">\n",
       "  <thead>\n",
       "    <tr style=\"text-align: right;\">\n",
       "      <th></th>\n",
       "      <th>favorites</th>\n",
       "      <th>full_text</th>\n",
       "    </tr>\n",
       "  </thead>\n",
       "  <tbody>\n",
       "    <tr>\n",
       "      <th>0</th>\n",
       "      <td>23.0</td>\n",
       "      <td>Flying home to run down from the power to comi...</td>\n",
       "    </tr>\n",
       "    <tr>\n",
       "      <th>1</th>\n",
       "      <td>500.0</td>\n",
       "      <td>Today we commemorate and MNML Case.</td>\n",
       "    </tr>\n",
       "    <tr>\n",
       "      <th>2</th>\n",
       "      <td>190.0</td>\n",
       "      <td>Today we have reached US$6.55 Billion TT$44…</td>\n",
       "    </tr>\n",
       "    <tr>\n",
       "      <th>3</th>\n",
       "      <td>131.0</td>\n",
       "      <td>Faking It by Joel Atwell. Written by Other cou...</td>\n",
       "    </tr>\n",
       "    <tr>\n",
       "      <th>4</th>\n",
       "      <td>113.0</td>\n",
       "      <td>Welcome back! 🙌</td>\n",
       "    </tr>\n",
       "    <tr>\n",
       "      <th>5</th>\n",
       "      <td>492.0</td>\n",
       "      <td>Contest: Win a fan of his ass. #thatisall Thanks!</td>\n",
       "    </tr>\n",
       "    <tr>\n",
       "      <th>6</th>\n",
       "      <td>158.0</td>\n",
       "      <td>80's &amp; friends! ✈️</td>\n",
       "    </tr>\n",
       "    <tr>\n",
       "      <th>7</th>\n",
       "      <td>NaN</td>\n",
       "      <td>Thank you guess how did I feel somewhat offend...</td>\n",
       "    </tr>\n",
       "    <tr>\n",
       "      <th>8</th>\n",
       "      <td>198.0</td>\n",
       "      <td>OnePlus 8 international giveaway classifies</td>\n",
       "    </tr>\n",
       "    <tr>\n",
       "      <th>9</th>\n",
       "      <td>272.0</td>\n",
       "      <td>Here it is.. Retweet this desperate</td>\n",
       "    </tr>\n",
       "    <tr>\n",
       "      <th>10</th>\n",
       "      <td>43.0</td>\n",
       "      <td>Great to advertise during the year I tweeted a...</td>\n",
       "    </tr>\n",
       "    <tr>\n",
       "      <th>11</th>\n",
       "      <td>349.0</td>\n",
       "      <td>Its been in love with the game with the origin...</td>\n",
       "    </tr>\n",
       "    <tr>\n",
       "      <th>12</th>\n",
       "      <td>467.0</td>\n",
       "      <td>Programming is the best!</td>\n",
       "    </tr>\n",
       "    <tr>\n",
       "      <th>13</th>\n",
       "      <td>50.0</td>\n",
       "      <td>I cannot believe this!</td>\n",
       "    </tr>\n",
       "    <tr>\n",
       "      <th>14</th>\n",
       "      <td>418.0</td>\n",
       "      <td>Buy this product NOW!!</td>\n",
       "    </tr>\n",
       "    <tr>\n",
       "      <th>15</th>\n",
       "      <td>361.0</td>\n",
       "      <td>I have one is best color gradients: Just relea...</td>\n",
       "    </tr>\n",
       "    <tr>\n",
       "      <th>16</th>\n",
       "      <td>346.0</td>\n",
       "      <td>PIC!!</td>\n",
       "    </tr>\n",
       "    <tr>\n",
       "      <th>17</th>\n",
       "      <td>296.0</td>\n",
       "      <td>hmmm feeling bad today</td>\n",
       "    </tr>\n",
       "    <tr>\n",
       "      <th>18</th>\n",
       "      <td>315.0</td>\n",
       "      <td>not feeling god right now</td>\n",
       "    </tr>\n",
       "    <tr>\n",
       "      <th>19</th>\n",
       "      <td>133.0</td>\n",
       "      <td>Programming is a hot topic!</td>\n",
       "    </tr>\n",
       "    <tr>\n",
       "      <th>20</th>\n",
       "      <td>92.0</td>\n",
       "      <td>Programming? i love it!</td>\n",
       "    </tr>\n",
       "    <tr>\n",
       "      <th>21</th>\n",
       "      <td>255.0</td>\n",
       "      <td>WHAT???</td>\n",
       "    </tr>\n",
       "    <tr>\n",
       "      <th>22</th>\n",
       "      <td>432.0</td>\n",
       "      <td>Amazing video by Leonardo!</td>\n",
       "    </tr>\n",
       "    <tr>\n",
       "      <th>23</th>\n",
       "      <td>430.0</td>\n",
       "      <td>Thanks man!</td>\n",
       "    </tr>\n",
       "    <tr>\n",
       "      <th>24</th>\n",
       "      <td>424.0</td>\n",
       "      <td>There is nothing better than programming!</td>\n",
       "    </tr>\n",
       "    <tr>\n",
       "      <th>25</th>\n",
       "      <td>488.0</td>\n",
       "      <td>BORED AF</td>\n",
       "    </tr>\n",
       "    <tr>\n",
       "      <th>26</th>\n",
       "      <td>318.0</td>\n",
       "      <td>I do not know if i like programming or other t...</td>\n",
       "    </tr>\n",
       "  </tbody>\n",
       "</table>\n",
       "</div>"
      ],
      "text/plain": [
       "    favorites                                          full_text\n",
       "0        23.0  Flying home to run down from the power to comi...\n",
       "1       500.0                Today we commemorate and MNML Case.\n",
       "2       190.0       Today we have reached US$6.55 Billion TT$44…\n",
       "3       131.0  Faking It by Joel Atwell. Written by Other cou...\n",
       "4       113.0                                    Welcome back! 🙌\n",
       "5       492.0  Contest: Win a fan of his ass. #thatisall Thanks!\n",
       "6       158.0                                 80's & friends! ✈️\n",
       "7         NaN  Thank you guess how did I feel somewhat offend...\n",
       "8       198.0        OnePlus 8 international giveaway classifies\n",
       "9       272.0                Here it is.. Retweet this desperate\n",
       "10       43.0  Great to advertise during the year I tweeted a...\n",
       "11      349.0  Its been in love with the game with the origin...\n",
       "12      467.0                           Programming is the best!\n",
       "13       50.0                             I cannot believe this!\n",
       "14      418.0                             Buy this product NOW!!\n",
       "15      361.0  I have one is best color gradients: Just relea...\n",
       "16      346.0                                              PIC!!\n",
       "17      296.0                             hmmm feeling bad today\n",
       "18      315.0                          not feeling god right now\n",
       "19      133.0                        Programming is a hot topic!\n",
       "20       92.0                            Programming? i love it!\n",
       "21      255.0                                            WHAT???\n",
       "22      432.0                         Amazing video by Leonardo!\n",
       "23      430.0                                        Thanks man!\n",
       "24      424.0          There is nothing better than programming!\n",
       "25      488.0                                           BORED AF\n",
       "26      318.0  I do not know if i like programming or other t..."
      ]
     },
     "execution_count": 6,
     "metadata": {},
     "output_type": "execute_result"
    }
   ],
   "source": [
    "df[[\"favorites\",\"full_text\"]] # si yo quisiera tener el numero de favoritos y el texto Recordar que el identificadora de cada fila  "
   ]
  },
  {
   "cell_type": "markdown",
   "id": "bdc4187d",
   "metadata": {},
   "source": [
    "Identificar las filas"
   ]
  },
  {
   "cell_type": "markdown",
   "id": "0a73c6d3",
   "metadata": {},
   "source": [
    "Manera Numero 1"
   ]
  },
  {
   "cell_type": "code",
   "execution_count": 7,
   "id": "d77dea8c",
   "metadata": {},
   "outputs": [
    {
     "data": {
      "application/vnd.microsoft.datawrangler.viewer.v0+json": {
       "columns": [
        {
         "name": "index",
         "rawType": "int64",
         "type": "integer"
        },
        {
         "name": "id",
         "rawType": "int64",
         "type": "integer"
        },
        {
         "name": "full_text",
         "rawType": "object",
         "type": "string"
        },
        {
         "name": "favorites",
         "rawType": "float64",
         "type": "float"
        },
        {
         "name": "retweets",
         "rawType": "float64",
         "type": "float"
        },
        {
         "name": "mentions",
         "rawType": "float64",
         "type": "float"
        },
        {
         "name": "country",
         "rawType": "object",
         "type": "string"
        },
        {
         "name": "user",
         "rawType": "object",
         "type": "string"
        },
        {
         "name": "followers",
         "rawType": "float64",
         "type": "float"
        },
        {
         "name": "followees",
         "rawType": "int64",
         "type": "integer"
        }
       ],
       "ref": "2b1d0916-5f74-41e1-852f-d6cca855fd27",
       "rows": [
        [
         "1",
         "183722",
         "Today we commemorate and MNML Case.",
         "500.0",
         "21.0",
         null,
         "BRASIL",
         "mateusmartins",
         "982.0",
         "1822"
        ],
        [
         "2",
         "183723",
         "Today we have reached US$6.55 Billion TT$44…",
         "190.0",
         "123.0",
         "6.0",
         "MEXICO",
         "pedrojuarez",
         "12.0",
         "129"
        ],
        [
         "3",
         "183724",
         "Faking It by Joel Atwell. Written by Other countries have devalued their currency retrenched thousands?",
         "131.0",
         "76.0",
         "3.0",
         "ECUADOR",
         "galocastillo",
         "332.0",
         "378"
        ],
        [
         "4",
         "183725",
         "Welcome back! 🙌",
         "113.0",
         "130.0",
         "9.0",
         "MEXICO",
         "pedrojuarez",
         "12.0",
         "129"
        ]
       ],
       "shape": {
        "columns": 9,
        "rows": 4
       }
      },
      "text/html": [
       "<div>\n",
       "<style scoped>\n",
       "    .dataframe tbody tr th:only-of-type {\n",
       "        vertical-align: middle;\n",
       "    }\n",
       "\n",
       "    .dataframe tbody tr th {\n",
       "        vertical-align: top;\n",
       "    }\n",
       "\n",
       "    .dataframe thead th {\n",
       "        text-align: right;\n",
       "    }\n",
       "</style>\n",
       "<table border=\"1\" class=\"dataframe\">\n",
       "  <thead>\n",
       "    <tr style=\"text-align: right;\">\n",
       "      <th></th>\n",
       "      <th>id</th>\n",
       "      <th>full_text</th>\n",
       "      <th>favorites</th>\n",
       "      <th>retweets</th>\n",
       "      <th>mentions</th>\n",
       "      <th>country</th>\n",
       "      <th>user</th>\n",
       "      <th>followers</th>\n",
       "      <th>followees</th>\n",
       "    </tr>\n",
       "  </thead>\n",
       "  <tbody>\n",
       "    <tr>\n",
       "      <th>1</th>\n",
       "      <td>183722</td>\n",
       "      <td>Today we commemorate and MNML Case.</td>\n",
       "      <td>500.0</td>\n",
       "      <td>21.0</td>\n",
       "      <td>NaN</td>\n",
       "      <td>BRASIL</td>\n",
       "      <td>mateusmartins</td>\n",
       "      <td>982.0</td>\n",
       "      <td>1822</td>\n",
       "    </tr>\n",
       "    <tr>\n",
       "      <th>2</th>\n",
       "      <td>183723</td>\n",
       "      <td>Today we have reached US$6.55 Billion TT$44…</td>\n",
       "      <td>190.0</td>\n",
       "      <td>123.0</td>\n",
       "      <td>6.0</td>\n",
       "      <td>MEXICO</td>\n",
       "      <td>pedrojuarez</td>\n",
       "      <td>12.0</td>\n",
       "      <td>129</td>\n",
       "    </tr>\n",
       "    <tr>\n",
       "      <th>3</th>\n",
       "      <td>183724</td>\n",
       "      <td>Faking It by Joel Atwell. Written by Other cou...</td>\n",
       "      <td>131.0</td>\n",
       "      <td>76.0</td>\n",
       "      <td>3.0</td>\n",
       "      <td>ECUADOR</td>\n",
       "      <td>galocastillo</td>\n",
       "      <td>332.0</td>\n",
       "      <td>378</td>\n",
       "    </tr>\n",
       "    <tr>\n",
       "      <th>4</th>\n",
       "      <td>183725</td>\n",
       "      <td>Welcome back! 🙌</td>\n",
       "      <td>113.0</td>\n",
       "      <td>130.0</td>\n",
       "      <td>9.0</td>\n",
       "      <td>MEXICO</td>\n",
       "      <td>pedrojuarez</td>\n",
       "      <td>12.0</td>\n",
       "      <td>129</td>\n",
       "    </tr>\n",
       "  </tbody>\n",
       "</table>\n",
       "</div>"
      ],
      "text/plain": [
       "       id                                          full_text  favorites  \\\n",
       "1  183722                Today we commemorate and MNML Case.      500.0   \n",
       "2  183723       Today we have reached US$6.55 Billion TT$44…      190.0   \n",
       "3  183724  Faking It by Joel Atwell. Written by Other cou...      131.0   \n",
       "4  183725                                    Welcome back! 🙌      113.0   \n",
       "\n",
       "   retweets  mentions  country           user  followers  followees  \n",
       "1      21.0       NaN   BRASIL  mateusmartins      982.0       1822  \n",
       "2     123.0       6.0   MEXICO    pedrojuarez       12.0        129  \n",
       "3      76.0       3.0  ECUADOR   galocastillo      332.0        378  \n",
       "4     130.0       9.0   MEXICO    pedrojuarez       12.0        129  "
      ]
     },
     "execution_count": 7,
     "metadata": {},
     "output_type": "execute_result"
    }
   ],
   "source": [
    "df.iloc[[1,2,3,4]] # si yo quisiera tener las filas 0,1,2,3 y 4"
   ]
  },
  {
   "cell_type": "markdown",
   "id": "59b873ff",
   "metadata": {},
   "source": [
    "Manera 2 por identificador"
   ]
  },
  {
   "cell_type": "code",
   "execution_count": 8,
   "id": "e7054519",
   "metadata": {},
   "outputs": [
    {
     "name": "stdout",
     "output_type": "stream",
     "text": [
      "       id                                          full_text  favorites  \\\n",
      "0  183721  Flying home to run down from the power to comi...       23.0   \n",
      "1  183722                Today we commemorate and MNML Case.      500.0   \n",
      "2  183723       Today we have reached US$6.55 Billion TT$44…      190.0   \n",
      "3  183724  Faking It by Joel Atwell. Written by Other cou...      131.0   \n",
      "4  183725                                    Welcome back! 🙌      113.0   \n",
      "\n",
      "   retweets  mentions  country           user  followers  followees  \n",
      "0       NaN      10.0  ECUADOR  leonardokuffo      389.0        258  \n",
      "1      21.0       NaN   BRASIL  mateusmartins      982.0       1822  \n",
      "2     123.0       6.0   MEXICO    pedrojuarez       12.0        129  \n",
      "3      76.0       3.0  ECUADOR   galocastillo      332.0        378  \n",
      "4     130.0       9.0   MEXICO    pedrojuarez       12.0        129  \n"
     ]
    }
   ],
   "source": [
    "primeras_cinco_filas = df.iloc[0:5]\n",
    "\n",
    "print(primeras_cinco_filas)\n"
   ]
  },
  {
   "cell_type": "code",
   "execution_count": 5,
   "id": "e1815065",
   "metadata": {},
   "outputs": [
    {
     "name": "stdout",
     "output_type": "stream",
     "text": [
      "--- 1. Columna 'favorites' (Serie) ---\n",
      "id\n",
      "183721     23.0\n",
      "183722    500.0\n",
      "183723    190.0\n",
      "183724    131.0\n",
      "183725    113.0\n",
      "Name: favorites, dtype: float64\n",
      "\n",
      "--- 2. DataFrame con 'full_text' y 'favorites' ---\n",
      "                                                full_text  favorites\n",
      "id                                                                  \n",
      "183721  Flying home to run down from the power to comi...       23.0\n",
      "183722                Today we commemorate and MNML Case.      500.0\n",
      "183723       Today we have reached US$6.55 Billion TT$44…      190.0\n"
     ]
    }
   ],
   "source": [
    "# Accediendo a una columna como una Serie de Pandas\n",
    "columna_favoritos = df[\"favorites\"]\n",
    "print(\"--- 1. Columna 'favorites' (Serie) ---\")\n",
    "print(columna_favoritos.head())\n",
    "\n",
    "# Accediendo a múltiples columnas como un nuevo DataFrame\n",
    "df_texto_favoritos = df[[\"full_text\", \"favorites\"]]\n",
    "print(\"\\n--- 2. DataFrame con 'full_text' y 'favorites' ---\")\n",
    "print(df_texto_favoritos.head(3))"
   ]
  },
  {
   "cell_type": "code",
   "execution_count": 6,
   "id": "ae360a61",
   "metadata": {},
   "outputs": [
    {
     "name": "stdout",
     "output_type": "stream",
     "text": [
      "--- 3. Selección de las primeras 3 filas por posición ---\n",
      "                                                full_text  favorites  \\\n",
      "id                                                                     \n",
      "183721  Flying home to run down from the power to comi...       23.0   \n",
      "183722                Today we commemorate and MNML Case.      500.0   \n",
      "183723       Today we have reached US$6.55 Billion TT$44…      190.0   \n",
      "\n",
      "        retweets  mentions  country           user  followers  followees  \n",
      "id                                                                        \n",
      "183721       NaN      10.0  ECUADOR  leonardokuffo      389.0        258  \n",
      "183722      21.0       NaN   BRASIL  mateusmartins      982.0       1822  \n",
      "183723     123.0       6.0   MEXICO    pedrojuarez       12.0        129  \n",
      "\n",
      "--- 4. Filas [0, 1, 2] y columna 'favorites' ---\n",
      "        favorites\n",
      "id               \n",
      "183721       23.0\n",
      "183722      500.0\n",
      "183723      190.0\n",
      "\n",
      "--- 5. Rango [1:3] y columnas 'favorites', 'full_text', 'mentions' ---\n",
      "        favorites                                          full_text  mentions\n",
      "id                                                                            \n",
      "183722      500.0                Today we commemorate and MNML Case.       NaN\n",
      "183723      190.0       Today we have reached US$6.55 Billion TT$44…       6.0\n",
      "183724      131.0  Faking It by Joel Atwell. Written by Other cou...       3.0\n"
     ]
    }
   ],
   "source": [
    "# Seleccionando las primeras 3 filas por posición (índice 0, 1 y 2)\n",
    "# Usamos .iloc[] para seleccionar por posición numérica, independientemente del índice 'id'\n",
    "print(\"--- 3. Selección de las primeras 3 filas por posición ---\")\n",
    "print(df.iloc[0:3])\n",
    "\n",
    "# Seleccionando filas y columnas al mismo tiempo\n",
    "# Filas por posición (0, 1, 2) y solo la columna 'favorites'\n",
    "print(\"\\n--- 4. Filas [0, 1, 2] y columna 'favorites' ---\")\n",
    "print(df.iloc[[0, 1, 2]][[\"favorites\"]])\n",
    "\n",
    "# Seleccionando un rango de filas (de la posición 1 a la 3) y varias columnas\n",
    "print(\"\\n--- 5. Rango [1:3] y columnas 'favorites', 'full_text', 'mentions' ---\")\n",
    "# Nota: df.iloc[1:4] selecciona las filas en las posiciones 1, 2 y 3.\n",
    "print(df.iloc[1:4][[\"favorites\", \"full_text\", \"mentions\"]])"
   ]
  },
  {
   "cell_type": "code",
   "execution_count": 7,
   "id": "db8c838c",
   "metadata": {},
   "outputs": [
    {
     "name": "stdout",
     "output_type": "stream",
     "text": [
      "--- 6. Ítems con más de 400 favoritos ---\n",
      "Total de ítems muy gustados: 8\n",
      "Media de retweets en este grupo: 70.00\n",
      "\n",
      "--- 7. Ítems > 400 favoritos Y > 20 menciones ---\n",
      "Total de ítems que cumplen ambas condiciones: 3\n",
      "id\n",
      "183744                                  Thanks man!\n",
      "183745    There is nothing better than programming!\n",
      "183746                                     BORED AF\n",
      "Name: full_text, dtype: object\n",
      "\n",
      "--- 8. Ítems que contienen 'Programming' (ignorando mayúsculas) ---\n",
      "Total de ítems relacionados con programación: 6\n",
      "id\n",
      "183732    Its been in love with the game with the origin...\n",
      "183733                             Programming is the best!\n",
      "183740                          Programming is a hot topic!\n",
      "183741                              Programming? i love it!\n",
      "183745            There is nothing better than programming!\n",
      "Name: full_text, dtype: object\n"
     ]
    }
   ],
   "source": [
    "# 6. Filtrando: Ítems con más de 400 favoritos\n",
    "df_muy_fav = df[df[\"favorites\"] > 400]\n",
    "print(\"--- 6. Ítems con más de 400 favoritos ---\")\n",
    "print(f\"Total de ítems muy gustados: {len(df_muy_fav)}\")\n",
    "# Mostramos la media de retweets de este grupo popular\n",
    "print(f\"Media de retweets en este grupo: {df_muy_fav['retweets'].mean():.2f}\")\n",
    "\n",
    "\n",
    "# 7. Filtrado Compuesto (AND lógico)\n",
    "df_compuesto = df[(df[\"favorites\"] > 400) & (df[\"mentions\"] > 20)]\n",
    "print(\"\\n--- 7. Ítems > 400 favoritos Y > 20 menciones ---\")\n",
    "print(f\"Total de ítems que cumplen ambas condiciones: {len(df_compuesto)}\")\n",
    "# Mostramos los textos de estos ítems:\n",
    "print(df_compuesto[\"full_text\"].head())\n",
    "\n",
    "\n",
    "# 8. Filtrado de Texto: Ítems que contienen la palabra \"Programming\"\n",
    "# Nota: La función .str.contains() requiere que la columna sea de tipo string (object)\n",
    "df_programacion = df[df[\"full_text\"].astype(str).str.contains(\"Programming\", case=False, na=False)]\n",
    "print(\"\\n--- 8. Ítems que contienen 'Programming' (ignorando mayúsculas) ---\")\n",
    "print(f\"Total de ítems relacionados con programación: {len(df_programacion)}\")\n",
    "if not df_programacion.empty:\n",
    "    print(df_programacion[\"full_text\"].head())"
   ]
  },
  {
   "cell_type": "code",
   "execution_count": null,
   "id": "df140372",
   "metadata": {},
   "outputs": [
    {
     "name": "stdout",
     "output_type": "stream",
     "text": [
      "Promedio de Favoritos por País (Top 5):\n",
      "   country   favorites\n",
      "0   BRASIL  339.909091\n",
      "2   MEXICO  294.857143\n",
      "1  ECUADOR  186.375000\n"
     ]
    }
   ],
   "source": [
    "#  Agrupar por la columna existente 'country' y calcular el promedio de 'favorites'\n",
    "df_por_pais = df.groupby('country')['favorites'].mean().reset_index()\n",
    "\n",
    "# Ordenar los países para ver los más populares primero\n",
    "df_por_pais = df_por_pais.sort_values(by='favorites', ascending=False)\n",
    "\n",
    "print(\"Promedio de Favoritos por País (Top 5):\")\n",
    "print(df_por_pais.head())\n",
    "\n",
    "# Guardamos el resultado en la variable 'grouped'\n",
    "grouped = df_por_pais"
   ]
  },
  {
   "cell_type": "code",
   "execution_count": 15,
   "id": "9d5963c7",
   "metadata": {},
   "outputs": [
    {
     "name": "stderr",
     "output_type": "stream",
     "text": [
      "C:\\Users\\se302\\AppData\\Local\\Temp\\ipykernel_31336\\3990588728.py:8: FutureWarning: \n",
      "\n",
      "Passing `palette` without assigning `hue` is deprecated and will be removed in v0.14.0. Assign the `x` variable to `hue` and set `legend=False` for the same effect.\n",
      "\n",
      "  sns.barplot(\n"
     ]
    },
    {
     "data": {
      "image/png": "[encoded data removed]",
      "text/plain": [
       "<Figure size 1000x600 with 1 Axes>"
      ]
     },
     "metadata": {},
     "output_type": "display_data"
    }
   ],
   "source": [
    "import matplotlib.pyplot as plt\n",
    "import seaborn as sns\n",
    "\n",
    "# Configuración del gráfico\n",
    "plt.figure(figsize=(10, 6))\n",
    "\n",
    "# Dibujar el gráfico de barras con Seaborn\n",
    "sns.barplot(\n",
    "    x='country',\n",
    "    y='favorites',\n",
    "    data=grouped,\n",
    "    palette='viridis' # Paleta de colores atractiva\n",
    ")\n",
    "\n",
    "plt.title('Popularidad (Media de Favoritos) por País de Origen', fontsize=14)\n",
    "plt.xlabel('País', fontsize=12)\n",
    "plt.ylabel('Media de Favoritos', fontsize=12)\n",
    "\n",
    "# Rotar etiquetas del eje X para que no se superpongan\n",
    "plt.xticks(rotation=45, ha='right') \n",
    "plt.tight_layout()\n",
    "plt.show()"
   ]
  },
  {
   "cell_type": "code",
   "execution_count": 4,
   "id": "55badedf",
   "metadata": {},
   "outputs": [
    {
     "name": "stdout",
     "output_type": "stream",
     "text": [
      "DataFrame cargado correctamente:\n"
     ]
    },
    {
     "data": {
      "application/vnd.microsoft.datawrangler.viewer.v0+json": {
       "columns": [
        {
         "name": "id",
         "rawType": "int64",
         "type": "integer"
        },
        {
         "name": "full_text",
         "rawType": "object",
         "type": "string"
        },
        {
         "name": "favorites",
         "rawType": "float64",
         "type": "float"
        },
        {
         "name": "retweets",
         "rawType": "float64",
         "type": "float"
        },
        {
         "name": "mentions",
         "rawType": "float64",
         "type": "float"
        },
        {
         "name": "country",
         "rawType": "object",
         "type": "string"
        },
        {
         "name": "user",
         "rawType": "object",
         "type": "string"
        },
        {
         "name": "followers",
         "rawType": "float64",
         "type": "float"
        },
        {
         "name": "followees",
         "rawType": "int64",
         "type": "integer"
        }
       ],
       "ref": "192e8e54-1f36-4fe3-9d30-5a0b3ea1d7b9",
       "rows": [
        [
         "183721",
         "Flying home to run down from the power to coming right up. 💁‍♂️😭 Today we have devalued their.",
         "23.0",
         null,
         "10.0",
         "ECUADOR",
         "leonardokuffo",
         "389.0",
         "258"
        ],
        [
         "183722",
         "Today we commemorate and MNML Case.",
         "500.0",
         "21.0",
         null,
         "BRASIL",
         "mateusmartins",
         "982.0",
         "1822"
        ],
        [
         "183723",
         "Today we have reached US$6.55 Billion TT$44…",
         "190.0",
         "123.0",
         "6.0",
         "MEXICO",
         "pedrojuarez",
         "12.0",
         "129"
        ],
        [
         "183724",
         "Faking It by Joel Atwell. Written by Other countries have devalued their currency retrenched thousands?",
         "131.0",
         "76.0",
         "3.0",
         "ECUADOR",
         "galocastillo",
         "332.0",
         "378"
        ],
        [
         "183725",
         "Welcome back! 🙌",
         "113.0",
         "130.0",
         "9.0",
         "MEXICO",
         "pedrojuarez",
         "12.0",
         "129"
        ]
       ],
       "shape": {
        "columns": 8,
        "rows": 5
       }
      },
      "text/html": [
       "<div>\n",
       "<style scoped>\n",
       "    .dataframe tbody tr th:only-of-type {\n",
       "        vertical-align: middle;\n",
       "    }\n",
       "\n",
       "    .dataframe tbody tr th {\n",
       "        vertical-align: top;\n",
       "    }\n",
       "\n",
       "    .dataframe thead th {\n",
       "        text-align: right;\n",
       "    }\n",
       "</style>\n",
       "<table border=\"1\" class=\"dataframe\">\n",
       "  <thead>\n",
       "    <tr style=\"text-align: right;\">\n",
       "      <th></th>\n",
       "      <th>full_text</th>\n",
       "      <th>favorites</th>\n",
       "      <th>retweets</th>\n",
       "      <th>mentions</th>\n",
       "      <th>country</th>\n",
       "      <th>user</th>\n",
       "      <th>followers</th>\n",
       "      <th>followees</th>\n",
       "    </tr>\n",
       "    <tr>\n",
       "      <th>id</th>\n",
       "      <th></th>\n",
       "      <th></th>\n",
       "      <th></th>\n",
       "      <th></th>\n",
       "      <th></th>\n",
       "      <th></th>\n",
       "      <th></th>\n",
       "      <th></th>\n",
       "    </tr>\n",
       "  </thead>\n",
       "  <tbody>\n",
       "    <tr>\n",
       "      <th>183721</th>\n",
       "      <td>Flying home to run down from the power to comi...</td>\n",
       "      <td>23.0</td>\n",
       "      <td>NaN</td>\n",
       "      <td>10.0</td>\n",
       "      <td>ECUADOR</td>\n",
       "      <td>leonardokuffo</td>\n",
       "      <td>389.0</td>\n",
       "      <td>258</td>\n",
       "    </tr>\n",
       "    <tr>\n",
       "      <th>183722</th>\n",
       "      <td>Today we commemorate and MNML Case.</td>\n",
       "      <td>500.0</td>\n",
       "      <td>21.0</td>\n",
       "      <td>NaN</td>\n",
       "      <td>BRASIL</td>\n",
       "      <td>mateusmartins</td>\n",
       "      <td>982.0</td>\n",
       "      <td>1822</td>\n",
       "    </tr>\n",
       "    <tr>\n",
       "      <th>183723</th>\n",
       "      <td>Today we have reached US$6.55 Billion TT$44…</td>\n",
       "      <td>190.0</td>\n",
       "      <td>123.0</td>\n",
       "      <td>6.0</td>\n",
       "      <td>MEXICO</td>\n",
       "      <td>pedrojuarez</td>\n",
       "      <td>12.0</td>\n",
       "      <td>129</td>\n",
       "    </tr>\n",
       "    <tr>\n",
       "      <th>183724</th>\n",
       "      <td>Faking It by Joel Atwell. Written by Other cou...</td>\n",
       "      <td>131.0</td>\n",
       "      <td>76.0</td>\n",
       "      <td>3.0</td>\n",
       "      <td>ECUADOR</td>\n",
       "      <td>galocastillo</td>\n",
       "      <td>332.0</td>\n",
       "      <td>378</td>\n",
       "    </tr>\n",
       "    <tr>\n",
       "      <th>183725</th>\n",
       "      <td>Welcome back! 🙌</td>\n",
       "      <td>113.0</td>\n",
       "      <td>130.0</td>\n",
       "      <td>9.0</td>\n",
       "      <td>MEXICO</td>\n",
       "      <td>pedrojuarez</td>\n",
       "      <td>12.0</td>\n",
       "      <td>129</td>\n",
       "    </tr>\n",
       "  </tbody>\n",
       "</table>\n",
       "</div>"
      ],
      "text/plain": [
       "                                                full_text  favorites  \\\n",
       "id                                                                     \n",
       "183721  Flying home to run down from the power to comi...       23.0   \n",
       "183722                Today we commemorate and MNML Case.      500.0   \n",
       "183723       Today we have reached US$6.55 Billion TT$44…      190.0   \n",
       "183724  Faking It by Joel Atwell. Written by Other cou...      131.0   \n",
       "183725                                    Welcome back! 🙌      113.0   \n",
       "\n",
       "        retweets  mentions  country           user  followers  followees  \n",
       "id                                                                        \n",
       "183721       NaN      10.0  ECUADOR  leonardokuffo      389.0        258  \n",
       "183722      21.0       NaN   BRASIL  mateusmartins      982.0       1822  \n",
       "183723     123.0       6.0   MEXICO    pedrojuarez       12.0        129  \n",
       "183724      76.0       3.0  ECUADOR   galocastillo      332.0        378  \n",
       "183725     130.0       9.0   MEXICO    pedrojuarez       12.0        129  "
      ]
     },
     "execution_count": 4,
     "metadata": {},
     "output_type": "execute_result"
    }
   ],
   "source": [
    "import pandas as pd\n",
    "\n",
    "# ¡Debe ejecutar esta celda primero para crear la variable 'df'!\n",
    "df = pd.read_csv('C:/Users/se302/Documents/PROGRAMACION/Ciencia de datos/doc/dataset.csv',index_col=\"id\")\n",
    "\n",
    "print(\"DataFrame cargado correctamente:\")\n",
    "df.head()"
   ]
  },
  {
   "cell_type": "code",
   "execution_count": 6,
   "id": "e5fd8f57",
   "metadata": {},
   "outputs": [],
   "source": [
    "# EJECUTAR ESTA CELDA PRIMERO\n",
    "# Agrupar el DataFrame por 'country' y calcular la media de 'followers'\n",
    "grouped_followers = df.groupby('country')['followers'].mean().reset_index()\n",
    "\n",
    "# Ordenar por el promedio de seguidores para el gráfico\n",
    "grouped_followers = grouped_followers.sort_values(by='followers', ascending=False)"
   ]
  },
  {
   "cell_type": "code",
   "execution_count": 8,
   "id": "f7ce29be",
   "metadata": {},
   "outputs": [
    {
     "name": "stdout",
     "output_type": "stream",
     "text": [
      "Promedio de Seguidores por País (Ordenado):\n",
      "   country  followers\n",
      "0   BRASIL    616.600\n",
      "1  ECUADOR    360.500\n",
      "2   MEXICO     15.375\n"
     ]
    }
   ],
   "source": [
    "# Agrupar el DataFrame por 'country' y calcular la media de 'followers'\n",
    "grouped_followers = df.groupby('country')['followers'].mean().reset_index()\n",
    "\n",
    "# Ordenar por el promedio de seguidores (útil para ver la tendencia si los tratamos como \"orden\")\n",
    "grouped_followers = grouped_followers.sort_values(by='followers', ascending=False)\n",
    "\n",
    "print(\"Promedio de Seguidores por País (Ordenado):\")\n",
    "print(grouped_followers)"
   ]
  },
  {
   "cell_type": "code",
   "execution_count": 9,
   "id": "0a37769f",
   "metadata": {},
   "outputs": [
    {
     "data": {
      "image/png": "[encoded data removed]",
      "text/plain": [
       "<Figure size 1200x600 with 1 Axes>"
      ]
     },
     "metadata": {},
     "output_type": "display_data"
    }
   ],
   "source": [
    "import matplotlib.pyplot as plt\n",
    "\n",
    "# Crear una copia y establecer 'country' como índice para que .plot() lo use como eje X\n",
    "# Esto es crucial para que .plot() entienda cómo dibujar las líneas.\n",
    "grouped_followers_indexed = grouped_followers.set_index('country')\n",
    "\n",
    "# Configuración del gráfico\n",
    "plt.figure(figsize=(12, 6))\n",
    "\n",
    "# Usar el método .plot() directamente en la Serie 'followers' del DataFrame indexado\n",
    "grouped_followers_indexed['followers'].plot(\n",
    "    kind='line',       # Especifica explícitamente que es un gráfico de líneas\n",
    "    marker='o',        # Marca los puntos para cada país\n",
    "    color='purple',    # Color de la línea\n",
    "    linestyle='-.'     # Estilo de línea (puntos y guiones)\n",
    ")\n",
    "\n",
    "plt.title('Media de Seguidores por País de Origen (Gráfico de Líneas)', fontsize=16)\n",
    "plt.xlabel('País', fontsize=12)\n",
    "plt.ylabel('Media de Seguidores', fontsize=12)\n",
    "\n",
    "# Rotar etiquetas del eje X si son muchas\n",
    "plt.xticks(rotation=45, ha='right')\n",
    "plt.grid(True, linestyle=':', alpha=0.6)\n",
    "plt.tight_layout()\n",
    "plt.show()"
   ]
  }
 ],
 "metadata": {
  "kernelspec": {
   "display_name": ".venv",
   "language": "python",
   "name": "python3"
  },
  "language_info": {
   "codemirror_mode": {
    "name": "ipython",
    "version": 3
   },
   "file_extension": ".py",
   "mimetype": "text/x-python",
   "name": "python",
   "nbconvert_exporter": "python",
   "pygments_lexer": "ipython3",
   "version": "3.12.10"
  }
 },
 "nbformat": 4,
 "nbformat_minor": 5
}
