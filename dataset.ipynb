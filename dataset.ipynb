{
 "cells": [
  {
   "cell_type": "markdown",
   "id": "d7222b28",
   "metadata": {},
   "source": [
    "Cargar datos: Importamos pandas y leemos el archivo csv"
   ]
  },
  {
   "cell_type": "code",
   "execution_count": 7,
   "id": "67d34f1a",
   "metadata": {},
   "outputs": [
    {
     "name": "stdout",
     "output_type": "stream",
     "text": [
      "DataFrame cargado correctamente:\n"
     ]
    },
    {
     "data": {
      "application/vnd.microsoft.datawrangler.viewer.v0+json": {
       "columns": [
        {
         "name": "id",
         "rawType": "int64",
         "type": "integer"
        },
        {
         "name": "full_text",
         "rawType": "object",
         "type": "string"
        },
        {
         "name": "favorites",
         "rawType": "float64",
         "type": "float"
        },
        {
         "name": "retweets",
         "rawType": "float64",
         "type": "float"
        },
        {
         "name": "mentions",
         "rawType": "float64",
         "type": "float"
        },
        {
         "name": "country",
         "rawType": "object",
         "type": "string"
        },
        {
         "name": "user",
         "rawType": "object",
         "type": "string"
        },
        {
         "name": "followers",
         "rawType": "float64",
         "type": "float"
        },
        {
         "name": "followees",
         "rawType": "int64",
         "type": "integer"
        }
       ],
       "ref": "c7a5528a-afca-4e0c-9cfc-17ee162145f0",
       "rows": [
        [
         "183721",
         "Flying home to run down from the power to coming right up. 💁‍♂️😭 Today we have devalued their.",
         "23.0",
         null,
         "10.0",
         "ECUADOR",
         "leonardokuffo",
         "389.0",
         "258"
        ],
        [
         "183722",
         "Today we commemorate and MNML Case.",
         "500.0",
         "21.0",
         null,
         "BRASIL",
         "mateusmartins",
         "982.0",
         "1822"
        ],
        [
         "183723",
         "Today we have reached US$6.55 Billion TT$44…",
         "190.0",
         "123.0",
         "6.0",
         "MEXICO",
         "pedrojuarez",
         "12.0",
         "129"
        ],
        [
         "183724",
         "Faking It by Joel Atwell. Written by Other countries have devalued their currency retrenched thousands?",
         "131.0",
         "76.0",
         "3.0",
         "ECUADOR",
         "galocastillo",
         "332.0",
         "378"
        ],
        [
         "183725",
         "Welcome back! 🙌",
         "113.0",
         "130.0",
         "9.0",
         "MEXICO",
         "pedrojuarez",
         "12.0",
         "129"
        ]
       ],
       "shape": {
        "columns": 8,
        "rows": 5
       }
      },
      "text/html": [
       "<div>\n",
       "<style scoped>\n",
       "    .dataframe tbody tr th:only-of-type {\n",
       "        vertical-align: middle;\n",
       "    }\n",
       "\n",
       "    .dataframe tbody tr th {\n",
       "        vertical-align: top;\n",
       "    }\n",
       "\n",
       "    .dataframe thead th {\n",
       "        text-align: right;\n",
       "    }\n",
       "</style>\n",
       "<table border=\"1\" class=\"dataframe\">\n",
       "  <thead>\n",
       "    <tr style=\"text-align: right;\">\n",
       "      <th></th>\n",
       "      <th>full_text</th>\n",
       "      <th>favorites</th>\n",
       "      <th>retweets</th>\n",
       "      <th>mentions</th>\n",
       "      <th>country</th>\n",
       "      <th>user</th>\n",
       "      <th>followers</th>\n",
       "      <th>followees</th>\n",
       "    </tr>\n",
       "    <tr>\n",
       "      <th>id</th>\n",
       "      <th></th>\n",
       "      <th></th>\n",
       "      <th></th>\n",
       "      <th></th>\n",
       "      <th></th>\n",
       "      <th></th>\n",
       "      <th></th>\n",
       "      <th></th>\n",
       "    </tr>\n",
       "  </thead>\n",
       "  <tbody>\n",
       "    <tr>\n",
       "      <th>183721</th>\n",
       "      <td>Flying home to run down from the power to comi...</td>\n",
       "      <td>23.0</td>\n",
       "      <td>NaN</td>\n",
       "      <td>10.0</td>\n",
       "      <td>ECUADOR</td>\n",
       "      <td>leonardokuffo</td>\n",
       "      <td>389.0</td>\n",
       "      <td>258</td>\n",
       "    </tr>\n",
       "    <tr>\n",
       "      <th>183722</th>\n",
       "      <td>Today we commemorate and MNML Case.</td>\n",
       "      <td>500.0</td>\n",
       "      <td>21.0</td>\n",
       "      <td>NaN</td>\n",
       "      <td>BRASIL</td>\n",
       "      <td>mateusmartins</td>\n",
       "      <td>982.0</td>\n",
       "      <td>1822</td>\n",
       "    </tr>\n",
       "    <tr>\n",
       "      <th>183723</th>\n",
       "      <td>Today we have reached US$6.55 Billion TT$44…</td>\n",
       "      <td>190.0</td>\n",
       "      <td>123.0</td>\n",
       "      <td>6.0</td>\n",
       "      <td>MEXICO</td>\n",
       "      <td>pedrojuarez</td>\n",
       "      <td>12.0</td>\n",
       "      <td>129</td>\n",
       "    </tr>\n",
       "    <tr>\n",
       "      <th>183724</th>\n",
       "      <td>Faking It by Joel Atwell. Written by Other cou...</td>\n",
       "      <td>131.0</td>\n",
       "      <td>76.0</td>\n",
       "      <td>3.0</td>\n",
       "      <td>ECUADOR</td>\n",
       "      <td>galocastillo</td>\n",
       "      <td>332.0</td>\n",
       "      <td>378</td>\n",
       "    </tr>\n",
       "    <tr>\n",
       "      <th>183725</th>\n",
       "      <td>Welcome back! 🙌</td>\n",
       "      <td>113.0</td>\n",
       "      <td>130.0</td>\n",
       "      <td>9.0</td>\n",
       "      <td>MEXICO</td>\n",
       "      <td>pedrojuarez</td>\n",
       "      <td>12.0</td>\n",
       "      <td>129</td>\n",
       "    </tr>\n",
       "  </tbody>\n",
       "</table>\n",
       "</div>"
      ],
      "text/plain": [
       "                                                full_text  favorites  \\\n",
       "id                                                                     \n",
       "183721  Flying home to run down from the power to comi...       23.0   \n",
       "183722                Today we commemorate and MNML Case.      500.0   \n",
       "183723       Today we have reached US$6.55 Billion TT$44…      190.0   \n",
       "183724  Faking It by Joel Atwell. Written by Other cou...      131.0   \n",
       "183725                                    Welcome back! 🙌      113.0   \n",
       "\n",
       "        retweets  mentions  country           user  followers  followees  \n",
       "id                                                                        \n",
       "183721       NaN      10.0  ECUADOR  leonardokuffo      389.0        258  \n",
       "183722      21.0       NaN   BRASIL  mateusmartins      982.0       1822  \n",
       "183723     123.0       6.0   MEXICO    pedrojuarez       12.0        129  \n",
       "183724      76.0       3.0  ECUADOR   galocastillo      332.0        378  \n",
       "183725     130.0       9.0   MEXICO    pedrojuarez       12.0        129  "
      ]
     },
     "execution_count": 7,
     "metadata": {},
     "output_type": "execute_result"
    }
   ],
   "source": [
    "import pandas as pd\n",
    "\n",
    "df = pd.read_csv('C:/Users/se302/Documents/PROGRAMACION/Ciencia de datos/dataset.csv',index_col=\"id\")\n",
    "\n",
    "print(\"DataFrame cargado correctamente:\")\n",
    "df.head()\n",
    "\n"
   ]
  }
 ],
 "metadata": {
  "kernelspec": {
   "display_name": ".venv",
   "language": "python",
   "name": "python3"
  },
  "language_info": {
   "codemirror_mode": {
    "name": "ipython",
    "version": 3
   },
   "file_extension": ".py",
   "mimetype": "text/x-python",
   "name": "python",
   "nbconvert_exporter": "python",
   "pygments_lexer": "ipython3",
   "version": "3.12.10"
  }
 },
 "nbformat": 4,
 "nbformat_minor": 5
}
